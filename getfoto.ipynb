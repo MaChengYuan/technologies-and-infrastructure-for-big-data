{
  "cells": [
    {
      "cell_type": "markdown",
      "metadata": {
        "id": "PIZk7tIgplf3"
      },
      "source": [
        "# **Course project on Technologies and Infrastructure for Big Data**\n",
        "part I : image collecting from flickr\n",
        "\n",
        "\n",
        "Project topic: image segmentation with data collection from www.flickr.com database \n",
        "\n",
        "Project executors:\n",
        "\n",
        "Ma Cheng Yuan , ISU 372818 , J4133c"
      ]
    },
    {
      "cell_type": "code",
      "execution_count": 1,
      "metadata": {
        "colab": {
          "base_uri": "https://localhost:8080/"
        },
        "id": "ucNRpKe3cSHT",
        "outputId": "19ce58f4-a98b-4c0d-e7c8-e2675f94a433"
      },
      "outputs": [
        {
          "output_type": "stream",
          "name": "stdout",
          "text": [
            "Looking in indexes: https://pypi.org/simple, https://us-python.pkg.dev/colab-wheels/public/simple/\n",
            "Collecting pyspark\n",
            "  Downloading pyspark-3.4.0.tar.gz (310.8 MB)\n",
            "\u001b[2K     \u001b[90m━━━━━━━━━━━━━━━━━━━━━━━━━━━━━━━━━━━━━━━\u001b[0m \u001b[32m310.8/310.8 MB\u001b[0m \u001b[31m3.4 MB/s\u001b[0m eta \u001b[36m0:00:00\u001b[0m\n",
            "\u001b[?25h  Preparing metadata (setup.py) ... \u001b[?25l\u001b[?25hdone\n",
            "Requirement already satisfied: py4j==0.10.9.7 in /usr/local/lib/python3.10/dist-packages (from pyspark) (0.10.9.7)\n",
            "Building wheels for collected packages: pyspark\n",
            "  Building wheel for pyspark (setup.py) ... \u001b[?25l\u001b[?25hdone\n",
            "  Created wheel for pyspark: filename=pyspark-3.4.0-py2.py3-none-any.whl size=311317130 sha256=b38d770ee0301d193e95ec9b528357e5b093e1b4c8971d0bb96046f9417de71c\n",
            "  Stored in directory: /root/.cache/pip/wheels/7b/1b/4b/3363a1d04368e7ff0d408e57ff57966fcdf00583774e761327\n",
            "Successfully built pyspark\n",
            "Installing collected packages: pyspark\n",
            "Successfully installed pyspark-3.4.0\n"
          ]
        }
      ],
      "source": [
        "pip install pyspark"
      ]
    },
    {
      "cell_type": "code",
      "execution_count": 2,
      "metadata": {
        "colab": {
          "base_uri": "https://localhost:8080/"
        },
        "id": "czGFVdZ8yyOm",
        "outputId": "8c079a01-bfd6-4013-e6c5-0cf0e80a1749"
      },
      "outputs": [
        {
          "output_type": "stream",
          "name": "stdout",
          "text": [
            "Looking in indexes: https://pypi.org/simple, https://us-python.pkg.dev/colab-wheels/public/simple/\n",
            "Collecting flickrapi\n",
            "  Downloading flickrapi-2.4.0-py2.py3-none-any.whl (26 kB)\n",
            "Requirement already satisfied: six>=1.5.2 in /usr/local/lib/python3.10/dist-packages (from flickrapi) (1.16.0)\n",
            "Requirement already satisfied: requests>=2.2.1 in /usr/local/lib/python3.10/dist-packages (from flickrapi) (2.27.1)\n",
            "Requirement already satisfied: requests-oauthlib>=0.4.0 in /usr/local/lib/python3.10/dist-packages (from flickrapi) (1.3.1)\n",
            "Collecting requests-toolbelt>=0.3.1 (from flickrapi)\n",
            "  Downloading requests_toolbelt-1.0.0-py2.py3-none-any.whl (54 kB)\n",
            "\u001b[2K     \u001b[90m━━━━━━━━━━━━━━━━━━━━━━━━━━━━━━━━━━━━━━━━\u001b[0m \u001b[32m54.5/54.5 kB\u001b[0m \u001b[31m3.6 MB/s\u001b[0m eta \u001b[36m0:00:00\u001b[0m\n",
            "\u001b[?25hRequirement already satisfied: urllib3<1.27,>=1.21.1 in /usr/local/lib/python3.10/dist-packages (from requests>=2.2.1->flickrapi) (1.26.15)\n",
            "Requirement already satisfied: certifi>=2017.4.17 in /usr/local/lib/python3.10/dist-packages (from requests>=2.2.1->flickrapi) (2022.12.7)\n",
            "Requirement already satisfied: charset-normalizer~=2.0.0 in /usr/local/lib/python3.10/dist-packages (from requests>=2.2.1->flickrapi) (2.0.12)\n",
            "Requirement already satisfied: idna<4,>=2.5 in /usr/local/lib/python3.10/dist-packages (from requests>=2.2.1->flickrapi) (3.4)\n",
            "Requirement already satisfied: oauthlib>=3.0.0 in /usr/local/lib/python3.10/dist-packages (from requests-oauthlib>=0.4.0->flickrapi) (3.2.2)\n",
            "Installing collected packages: requests-toolbelt, flickrapi\n",
            "Successfully installed flickrapi-2.4.0 requests-toolbelt-1.0.0\n"
          ]
        }
      ],
      "source": [
        "pip install flickrapi"
      ]
    },
    {
      "cell_type": "code",
      "execution_count": 3,
      "metadata": {
        "colab": {
          "base_uri": "https://localhost:8080/"
        },
        "id": "Q-V5eQgU0Zua",
        "outputId": "39f09518-592f-4845-f74c-64d8b501ff7a"
      },
      "outputs": [
        {
          "output_type": "stream",
          "name": "stderr",
          "text": [
            "/usr/local/lib/python3.10/dist-packages/pyspark/pandas/__init__.py:50: UserWarning: 'PYARROW_IGNORE_TIMEZONE' environment variable was not set. It is required to set this environment variable to '1' in both driver and executor sides if you use pyarrow>=2.0.0. pandas-on-Spark will set it for you but it does not work if there is a Spark context already launched.\n",
            "  warnings.warn(\n"
          ]
        }
      ],
      "source": [
        "import pyspark.pandas as ps\n",
        "import flickrapi\n",
        "from flickrapi import FlickrAPI\n",
        "import os\n",
        "import warnings\n",
        "\n",
        "os.environ['KMP_DUPLICATE_LIB_OK'] = 'True'\n",
        "warnings.filterwarnings(action='ignore')"
      ]
    },
    {
      "cell_type": "markdown",
      "metadata": {
        "id": "Ia8S4gBRgJyd"
      },
      "source": [
        "#Download image from flick with flickrapi\n",
        "\n",
        "- image segmentation , all_species = ['`**blue jay**', '**northern cardinal**', '**american goldfinch**`'] , each specie with 20 image \n",
        "\n",
        "Before we start parsing data, we have received key and secret code to connect to the API. You can get your own key in the Developers section of www.flickr.com or use ours."
      ]
    },
    {
      "cell_type": "code",
      "execution_count": 4,
      "metadata": {
        "id": "Z6SokO_ecWZs"
      },
      "outputs": [],
      "source": [
        "from flickrapi import FlickrAPI\n",
        "from pyspark.sql import SparkSession\n",
        "from pyspark.sql.types import *\n",
        "\n",
        "API_KEY = '513e24d8fc90dd4f767670d583ba1e41'\n",
        "API_SECRET = '975b054fcd3c3371'\n",
        "api = flickrapi.FlickrAPI(api_key=API_KEY, secret=API_SECRET, format='parsed-json')\n",
        "\n",
        "\n"
      ]
    },
    {
      "cell_type": "code",
      "execution_count": 5,
      "metadata": {
        "id": "d_Dgc0kYcWcj"
      },
      "outputs": [],
      "source": [
        "import requests\n",
        "import os\n",
        "import sys\n",
        "\n",
        "def create_folder(path):\n",
        "    if not os.path.isdir(path):\n",
        "        os.makedirs(path)\n",
        "\n",
        "def download_images(urls, path):\n",
        "    create_folder(path)  # makes sure path exists\n",
        "    local_storage = []\n",
        "    for url in urls:\n",
        "        image_name = url.split(\"/\")[-1]\n",
        "        image_path = os.path.join(path, image_name)\n",
        "        \n",
        "        if not os.path.isfile(image_path):  # ignore if already downloaded\n",
        "            response=requests.get(url,stream=True)\n",
        "\n",
        "            with open(image_path,'wb') as outfile:\n",
        "                outfile.write(response.content)\n",
        "        local_storage.append(image_path)\n",
        "    return local_storage"
      ]
    },
    {
      "cell_type": "markdown",
      "source": [
        "#explanation to argument api.photo.search method :\n",
        "\n",
        "\n",
        "*   `text` : description of image\n",
        "*   `sort` : flickr's built-in sorting method\n",
        "*   `media`: data type (image,video)\n",
        "*   `extras`: image metadata. We chose url_c, which will return url of the image thumbnail with a size of 800 pixels on the long side\n",
        "*   `per_page`:number of images per query response page\n",
        "*   `page`:page number of query responses\n",
        "\n",
        "\n",
        "\n",
        "\n",
        "\n"
      ],
      "metadata": {
        "id": "3meQ9E29fLxZ"
      }
    },
    {
      "cell_type": "code",
      "execution_count": 6,
      "metadata": {
        "id": "_nC5hfqJcWfI",
        "colab": {
          "base_uri": "https://localhost:8080/"
        },
        "outputId": "d7a9fcc3-3ca8-4165-a73e-4daa592771e9"
      },
      "outputs": [
        {
          "output_type": "stream",
          "name": "stdout",
          "text": [
            "df was created\n",
            "blue jay\n",
            "Getting urls for blue jay\n",
            "Downlaing images for blue jay\n",
            "20\n",
            "northern cardinal\n",
            "Getting urls for northern cardinal\n",
            "Downlaing images for northern cardinal\n",
            "20\n",
            "american goldfinch\n",
            "Getting urls for american goldfinch\n",
            "Downlaing images for american goldfinch\n",
            "20\n"
          ]
        }
      ],
      "source": [
        "#from pyspark.sql.readwriter import DataFrameReader\n",
        "import os\n",
        "import time\n",
        "import pandas\n",
        "\n",
        "all_species = ['blue jay', 'northern cardinal', 'american goldfinch']\n",
        " \n",
        "def download(urls,specie):\n",
        "    fotos = []\n",
        "    local_storage = []\n",
        "    \n",
        "    \n",
        "    print('Getting urls for', specie)\n",
        "    urls = urls\n",
        "\n",
        "    print('Downlaing images for', specie)\n",
        "    path = os.path.join('data', specie)\n",
        "    \n",
        "    \n",
        "    local_storage = download_images(urls, path)\n",
        "    \n",
        "    return local_storage\n",
        "\n",
        "\n",
        "\n",
        "\n",
        "df = ps.DataFrame()\n",
        "print('df was created')\n",
        "size = 20\n",
        "flickr = FlickrAPI(API_KEY, API_SECRET)\n",
        "for label in all_species :\n",
        "  page = 1\n",
        "  sum = []\n",
        "  dataframe = ps.DataFrame()\n",
        "  print(label)    \n",
        "  while(len(sum) < size):\n",
        "    photos = api.photos.search(text=label, sort='relevance', media='photos',\n",
        "                  extras='url_c', per_page=size, page=page)['photos']['photo']\n",
        "    i = -1\n",
        "    while i < len(photos)-1:\n",
        "      i = i+1     \n",
        "      if 'url_c' in photos[i]:        \n",
        "        if(photos[i]['url_c']=='None'):\n",
        "         del photos[i]\n",
        "         i = i-1\n",
        "      else:\n",
        "         del photos[i]\n",
        "         i = i-1\n",
        "    sum=sum+photos\n",
        "    page = page + 1\n",
        "  sum = sum[:20]\n",
        "  dataframe = ps.DataFrame(sum)\n",
        "  dataframe['label'] = [all_species.index(label)] * len(dataframe)\n",
        "  dataframe = dataframe[dataframe['url_c']!='None']\n",
        "  urls = dataframe['url_c'].tolist()\n",
        "  local_storage = download(urls,label)\n",
        "  print(len(dataframe))\n",
        "  dataframe['root'] = local_storage\n",
        "  df = ps.concat([df, dataframe], ignore_index=True)\n",
        " "
      ]
    },
    {
      "cell_type": "code",
      "source": [
        "df.head(5)"
      ],
      "metadata": {
        "colab": {
          "base_uri": "https://localhost:8080/",
          "height": 293
        },
        "id": "jlOc7vG492f4",
        "outputId": "7aa11917-a80e-4851-fba9-f37e4c06d02f"
      },
      "execution_count": 13,
      "outputs": [
        {
          "output_type": "execute_result",
          "data": {
            "text/plain": [
              "            id         owner      secret server  farm     title  ispublic  isfriend  isfamily                                                            url_c  height_c  width_c  label                                        root\n",
              "0  14143181441  75378295@N07  ffdc52e7c5   5546     6  Blue Jay         1         0         0  https://live.staticflickr.com/5546/14143181441_ffdc52e7c5_c.jpg       800      599      0  data/blue jay/14143181441_ffdc52e7c5_c.jpg\n",
              "1  22506516545  51102294@N05  fe40197b38    715     1  Blue jay         1         0         0   https://live.staticflickr.com/715/22506516545_fe40197b38_c.jpg       533      800      0  data/blue jay/22506516545_fe40197b38_c.jpg\n",
              "2   8695246698  95371549@N06  e949fbd20f   8540     9  Blue Jay         1         0         0   https://live.staticflickr.com/8540/8695246698_e949fbd20f_c.jpg       600      800      0   data/blue jay/8695246698_e949fbd20f_c.jpg\n",
              "3  31618404466  24721968@N03  28bd67eef6    752     1  Blue Jay         1         0         0   https://live.staticflickr.com/752/31618404466_28bd67eef6_c.jpg       533      800      0  data/blue jay/31618404466_28bd67eef6_c.jpg\n",
              "4  11124157635  84857817@N00  3c8aa26ddc   7381     8  Blue Jay         1         0         0  https://live.staticflickr.com/7381/11124157635_3c8aa26ddc_c.jpg       535      800      0  data/blue jay/11124157635_3c8aa26ddc_c.jpg"
            ],
            "text/html": [
              "<div>\n",
              "<style scoped>\n",
              "    .dataframe tbody tr th:only-of-type {\n",
              "        vertical-align: middle;\n",
              "    }\n",
              "\n",
              "    .dataframe tbody tr th {\n",
              "        vertical-align: top;\n",
              "    }\n",
              "\n",
              "    .dataframe thead th {\n",
              "        text-align: right;\n",
              "    }\n",
              "</style>\n",
              "<table border=\"1\" class=\"dataframe\">\n",
              "  <thead>\n",
              "    <tr style=\"text-align: right;\">\n",
              "      <th></th>\n",
              "      <th>id</th>\n",
              "      <th>owner</th>\n",
              "      <th>secret</th>\n",
              "      <th>server</th>\n",
              "      <th>farm</th>\n",
              "      <th>title</th>\n",
              "      <th>ispublic</th>\n",
              "      <th>isfriend</th>\n",
              "      <th>isfamily</th>\n",
              "      <th>url_c</th>\n",
              "      <th>height_c</th>\n",
              "      <th>width_c</th>\n",
              "      <th>label</th>\n",
              "      <th>root</th>\n",
              "    </tr>\n",
              "  </thead>\n",
              "  <tbody>\n",
              "    <tr>\n",
              "      <th>0</th>\n",
              "      <td>14143181441</td>\n",
              "      <td>75378295@N07</td>\n",
              "      <td>ffdc52e7c5</td>\n",
              "      <td>5546</td>\n",
              "      <td>6</td>\n",
              "      <td>Blue Jay</td>\n",
              "      <td>1</td>\n",
              "      <td>0</td>\n",
              "      <td>0</td>\n",
              "      <td>https://live.staticflickr.com/5546/14143181441...</td>\n",
              "      <td>800</td>\n",
              "      <td>599</td>\n",
              "      <td>0</td>\n",
              "      <td>data/blue jay/14143181441_ffdc52e7c5_c.jpg</td>\n",
              "    </tr>\n",
              "    <tr>\n",
              "      <th>1</th>\n",
              "      <td>22506516545</td>\n",
              "      <td>51102294@N05</td>\n",
              "      <td>fe40197b38</td>\n",
              "      <td>715</td>\n",
              "      <td>1</td>\n",
              "      <td>Blue jay</td>\n",
              "      <td>1</td>\n",
              "      <td>0</td>\n",
              "      <td>0</td>\n",
              "      <td>https://live.staticflickr.com/715/22506516545_...</td>\n",
              "      <td>533</td>\n",
              "      <td>800</td>\n",
              "      <td>0</td>\n",
              "      <td>data/blue jay/22506516545_fe40197b38_c.jpg</td>\n",
              "    </tr>\n",
              "    <tr>\n",
              "      <th>2</th>\n",
              "      <td>8695246698</td>\n",
              "      <td>95371549@N06</td>\n",
              "      <td>e949fbd20f</td>\n",
              "      <td>8540</td>\n",
              "      <td>9</td>\n",
              "      <td>Blue Jay</td>\n",
              "      <td>1</td>\n",
              "      <td>0</td>\n",
              "      <td>0</td>\n",
              "      <td>https://live.staticflickr.com/8540/8695246698_...</td>\n",
              "      <td>600</td>\n",
              "      <td>800</td>\n",
              "      <td>0</td>\n",
              "      <td>data/blue jay/8695246698_e949fbd20f_c.jpg</td>\n",
              "    </tr>\n",
              "    <tr>\n",
              "      <th>3</th>\n",
              "      <td>31618404466</td>\n",
              "      <td>24721968@N03</td>\n",
              "      <td>28bd67eef6</td>\n",
              "      <td>752</td>\n",
              "      <td>1</td>\n",
              "      <td>Blue Jay</td>\n",
              "      <td>1</td>\n",
              "      <td>0</td>\n",
              "      <td>0</td>\n",
              "      <td>https://live.staticflickr.com/752/31618404466_...</td>\n",
              "      <td>533</td>\n",
              "      <td>800</td>\n",
              "      <td>0</td>\n",
              "      <td>data/blue jay/31618404466_28bd67eef6_c.jpg</td>\n",
              "    </tr>\n",
              "    <tr>\n",
              "      <th>4</th>\n",
              "      <td>11124157635</td>\n",
              "      <td>84857817@N00</td>\n",
              "      <td>3c8aa26ddc</td>\n",
              "      <td>7381</td>\n",
              "      <td>8</td>\n",
              "      <td>Blue Jay</td>\n",
              "      <td>1</td>\n",
              "      <td>0</td>\n",
              "      <td>0</td>\n",
              "      <td>https://live.staticflickr.com/7381/11124157635...</td>\n",
              "      <td>535</td>\n",
              "      <td>800</td>\n",
              "      <td>0</td>\n",
              "      <td>data/blue jay/11124157635_3c8aa26ddc_c.jpg</td>\n",
              "    </tr>\n",
              "  </tbody>\n",
              "</table>\n",
              "</div>"
            ]
          },
          "metadata": {},
          "execution_count": 13
        }
      ]
    },
    {
      "cell_type": "code",
      "source": [
        "from pyspark.sql.functions import udf, length, when, col, lit, broadcast,count,desc\n",
        "\n",
        "modified_df = df.to_spark()\n",
        "print('farm image of blue jay')\n",
        "modified_df = modified_df.where(col('label')==0).groupBy('farm').agg(count(\"farm\").alias(\"count\")).select('farm','count').orderBy(desc(col('count')))\n",
        "modified_df.show()\n",
        "\n",
        "modified_df = df.to_spark()\n",
        "print('farm image of northern cadrinal')\n",
        "modified_df = modified_df.where(col('label')==1).groupBy('farm').agg(count(\"farm\").alias(\"count\")).select('farm','count').orderBy(desc(col('count')))\n",
        "modified_df.show()\n",
        "\n",
        "modified_df = df.to_spark()\n",
        "print('farm image of goldfinch')\n",
        "modified_df = modified_df.where(col('label')==2).groupBy('farm').agg(count(\"farm\").alias(\"count\")).select('farm','count').orderBy(desc(col('count')))\n",
        "modified_df.show()"
      ],
      "metadata": {
        "colab": {
          "base_uri": "https://localhost:8080/"
        },
        "id": "xUIidI3h5ZXU",
        "outputId": "c89f9372-ad2d-4081-b0f4-20d8f1956f46"
      },
      "execution_count": 8,
      "outputs": [
        {
          "output_type": "stream",
          "name": "stdout",
          "text": [
            "farm image of blue jay\n",
            "+----+-----+\n",
            "|farm|count|\n",
            "+----+-----+\n",
            "|   8|    7|\n",
            "|   6|    4|\n",
            "|   9|    4|\n",
            "|   1|    2|\n",
            "|   3|    1|\n",
            "|   2|    1|\n",
            "|   4|    1|\n",
            "+----+-----+\n",
            "\n",
            "farm image of northern cadrinal\n",
            "+----+-----+\n",
            "|farm|count|\n",
            "+----+-----+\n",
            "|  66|   19|\n",
            "|   6|    1|\n",
            "+----+-----+\n",
            "\n",
            "farm image of goldfinch\n",
            "+----+-----+\n",
            "|farm|count|\n",
            "+----+-----+\n",
            "|  66|   16|\n",
            "|   5|    2|\n",
            "|   1|    1|\n",
            "|   2|    1|\n",
            "+----+-----+\n",
            "\n"
          ]
        }
      ]
    },
    {
      "cell_type": "code",
      "source": [
        "modified_df = df.to_spark()\n",
        "print('owner image of blue jay')\n",
        "modified_df = modified_df.where(col('label')==0).groupBy('owner').agg(count(\"owner\").alias(\"count\")).select('owner','count').orderBy(desc(col('count')))\n",
        "modified_df.show()\n",
        "\n",
        "modified_df = df.to_spark()\n",
        "print('owner image of northern cadrinal')\n",
        "modified_df = modified_df.where(col('label')==1).groupBy('owner').agg(count(\"owner\").alias(\"count\")).select('owner','count').orderBy(desc(col('count')))\n",
        "modified_df.show()\n",
        "\n",
        "modified_df = df.to_spark()\n",
        "print('owner image of goldfinch')\n",
        "modified_df = modified_df.where(col('label')==2).groupBy('owner').agg(count(\"owner\").alias(\"count\")).select('owner','count').orderBy(desc(col('count')))\n",
        "modified_df.show()\n"
      ],
      "metadata": {
        "colab": {
          "base_uri": "https://localhost:8080/"
        },
        "id": "QyDeLvq5E3yS",
        "outputId": "e4c6af18-6ab7-402d-9d70-c0446a1133a6"
      },
      "execution_count": 9,
      "outputs": [
        {
          "output_type": "stream",
          "name": "stdout",
          "text": [
            "owner image of blue jay\n",
            "+-------------+-----+\n",
            "|        owner|count|\n",
            "+-------------+-----+\n",
            "| 24218402@N06|    2|\n",
            "| 95988956@N00|    2|\n",
            "| 24635080@N08|    2|\n",
            "| 54526343@N03|    2|\n",
            "| 75378295@N07|    1|\n",
            "| 26027649@N03|    1|\n",
            "|141746871@N07|    1|\n",
            "| 12591684@N05|    1|\n",
            "| 27956367@N06|    1|\n",
            "| 95371549@N06|    1|\n",
            "| 51102294@N05|    1|\n",
            "| 84857817@N00|    1|\n",
            "| 27254860@N04|    1|\n",
            "| 24721968@N03|    1|\n",
            "|119336417@N08|    1|\n",
            "| 34020183@N03|    1|\n",
            "+-------------+-----+\n",
            "\n",
            "owner image of northern cadrinal\n",
            "+-------------+-----+\n",
            "|        owner|count|\n",
            "+-------------+-----+\n",
            "| 38802090@N06|   16|\n",
            "| 75709980@N08|    2|\n",
            "| 78998859@N04|    1|\n",
            "|135168164@N03|    1|\n",
            "+-------------+-----+\n",
            "\n",
            "owner image of goldfinch\n",
            "+-------------+-----+\n",
            "|        owner|count|\n",
            "+-------------+-----+\n",
            "|129376752@N03|    3|\n",
            "| 92361032@N05|    2|\n",
            "| 93273765@N05|    2|\n",
            "| 73683441@N07|    2|\n",
            "| 23491871@N02|    1|\n",
            "|146856323@N06|    1|\n",
            "| 93058428@N06|    1|\n",
            "|126304632@N05|    1|\n",
            "|135842839@N08|    1|\n",
            "| 41515458@N04|    1|\n",
            "| 88978913@N08|    1|\n",
            "| 61955892@N04|    1|\n",
            "|142341586@N04|    1|\n",
            "| 77208584@N08|    1|\n",
            "| 24594207@N00|    1|\n",
            "+-------------+-----+\n",
            "\n"
          ]
        }
      ]
    },
    {
      "cell_type": "code",
      "execution_count": 10,
      "metadata": {
        "id": "XD0ZM6FiLwSz",
        "colab": {
          "base_uri": "https://localhost:8080/"
        },
        "outputId": "3e100f57-8bbc-4ed0-e6d3-b8036709685b"
      },
      "outputs": [
        {
          "output_type": "stream",
          "name": "stdout",
          "text": [
            "there are total 60 downloaded images\n"
          ]
        }
      ],
      "source": [
        "print(\"there are total {} downloaded images\".format(len(df)))\n"
      ]
    },
    {
      "cell_type": "markdown",
      "metadata": {
        "id": "wX5CX85bn_tl"
      },
      "source": [
        "convert files with images into zip files and download it to create masked images (label images) using VGG image annotator \n",
        "\n",
        "https://annotate.officialstatistics.org/\n",
        "\n"
      ]
    },
    {
      "cell_type": "code",
      "execution_count": 11,
      "metadata": {
        "id": "qzvuFcwPm99-",
        "colab": {
          "base_uri": "https://localhost:8080/"
        },
        "outputId": "6468c10a-405e-4970-c1de-266db167c544"
      },
      "outputs": [
        {
          "output_type": "stream",
          "name": "stdout",
          "text": [
            "  adding: content/data/ (stored 0%)\n",
            "  adding: content/data/blue jay/ (stored 0%)\n",
            "  adding: content/data/blue jay/27654220552_69e94ece66_c.jpg (deflated 0%)\n",
            "  adding: content/data/blue jay/26941886700_ffd2cc7d6c_c.jpg (deflated 0%)\n",
            "  adding: content/data/blue jay/2334503592_614e71d8a4_c.jpg (deflated 0%)\n",
            "  adding: content/data/blue jay/8695246698_e949fbd20f_c.jpg (deflated 0%)\n",
            "  adding: content/data/blue jay/15882779474_87076fd9c8_c.jpg (deflated 1%)\n",
            "  adding: content/data/blue jay/6591147097_f082483ac7_c.jpg (deflated 2%)\n",
            "  adding: content/data/blue jay/7950900098_a911c5cf1d_c.jpg (deflated 1%)\n",
            "  adding: content/data/blue jay/2333677567_3f05b28c50_c.jpg (deflated 0%)\n",
            "  adding: content/data/blue jay/21992539444_13c1342bbf_c.jpg (deflated 0%)\n",
            "  adding: content/data/blue jay/16324923976_ec53ecbd59_c.jpg (deflated 1%)\n",
            "  adding: content/data/blue jay/31618404466_28bd67eef6_c.jpg (deflated 2%)\n",
            "  adding: content/data/blue jay/22506516545_fe40197b38_c.jpg (deflated 1%)\n",
            "  adding: content/data/blue jay/8465743289_1291a47e21_c.jpg (deflated 0%)\n",
            "  adding: content/data/blue jay/11124157635_3c8aa26ddc_c.jpg (deflated 0%)\n",
            "  adding: content/data/blue jay/8823823436_5b7cd9c9bb_c.jpg (deflated 0%)\n",
            "  adding: content/data/blue jay/14143181441_ffdc52e7c5_c.jpg (deflated 0%)\n",
            "  adding: content/data/blue jay/27411094276_bf39e1b1e9_c.jpg (deflated 0%)\n",
            "  adding: content/data/blue jay/11082504556_febcc53c05_c.jpg (deflated 0%)\n",
            "  adding: content/data/blue jay/26335631095_1e3d21ebd4_c.jpg (deflated 1%)\n",
            "  adding: content/data/northern cardinal/ (stored 0%)\n",
            "  adding: content/data/northern cardinal/51994492866_36bbc7bff3_c.jpg (deflated 1%)\n",
            "  adding: content/data/northern cardinal/52442697792_4d187eaa03_c.jpg (deflated 0%)\n",
            "  adding: content/data/northern cardinal/52613862428_b69571e495_c.jpg (deflated 1%)\n",
            "  adding: content/data/northern cardinal/40774558663_069d1441e1_c.jpg (deflated 1%)\n",
            "  adding: content/data/northern cardinal/50993597662_d0dbb6d36f_c.jpg (deflated 1%)\n",
            "  adding: content/data/northern cardinal/52439266779_6711effd90_c.jpg (deflated 1%)\n",
            "  adding: content/data/northern cardinal/51898327672_ab7d9107cb_c.jpg (deflated 0%)\n",
            "  adding: content/data/northern cardinal/52580007365_b1f9f0a707_c.jpg (deflated 1%)\n",
            "  adding: content/data/northern cardinal/51691108334_763ecf2f97_c.jpg (deflated 0%)\n",
            "  adding: content/data/northern cardinal/30376042413_1a15900032_c.jpg (deflated 1%)\n",
            "  adding: content/data/northern cardinal/49915643351_5a61a2dc31_c.jpg (deflated 1%)\n",
            "  adding: content/data/northern cardinal/52134446206_f6fc48b2f1_c.jpg (deflated 1%)\n",
            "  adding: content/data/northern cardinal/51850006567_e7575d2248_c.jpg (deflated 1%)\n",
            "  adding: content/data/northern cardinal/50941951153_a0df707667_c.jpg (deflated 1%)\n",
            "  adding: content/data/northern cardinal/52303549438_a8e573c108_c.jpg (deflated 1%)\n",
            "  adding: content/data/northern cardinal/52779407315_985cb1ea38_c.jpg (deflated 1%)\n",
            "  adding: content/data/northern cardinal/50517615487_1b4b1fcb71_c.jpg (deflated 1%)\n",
            "  adding: content/data/northern cardinal/52702825314_ba9c4e53d0_c.jpg (deflated 5%)\n",
            "  adding: content/data/northern cardinal/50008142958_5d7ca00f44_c.jpg (deflated 1%)\n",
            "  adding: content/data/northern cardinal/52775332739_b5a1f29a06_c.jpg (deflated 0%)\n",
            "  adding: content/data/american goldfinch/ (stored 0%)\n",
            "  adding: content/data/american goldfinch/36820138565_59d21a65a9_c.jpg (deflated 0%)\n",
            "  adding: content/data/american goldfinch/49103936567_bb77079284_c.jpg (deflated 1%)\n",
            "  adding: content/data/american goldfinch/52230632302_edd3377f70_c.jpg (deflated 1%)\n",
            "  adding: content/data/american goldfinch/50672775283_4425bc6164_c.jpg (deflated 0%)\n",
            "  adding: content/data/american goldfinch/49029463737_299e87b1b6_c.jpg (deflated 1%)\n",
            "  adding: content/data/american goldfinch/51562045284_4f896fab55_c.jpg (deflated 1%)\n",
            "  adding: content/data/american goldfinch/52287042516_811c416303_c.jpg (deflated 1%)\n",
            "  adding: content/data/american goldfinch/30802982858_5bd5de1c95_c.jpg (deflated 2%)\n",
            "  adding: content/data/american goldfinch/51836435329_43e50bfe25_c.jpg (deflated 0%)\n",
            "  adding: content/data/american goldfinch/32259472720_fd167515c9_c.jpg (deflated 0%)\n",
            "  adding: content/data/american goldfinch/49785671167_9e201108c2_c.jpg (deflated 0%)\n",
            "  adding: content/data/american goldfinch/52591762978_ed73e4181c_c.jpg (deflated 1%)\n",
            "  adding: content/data/american goldfinch/51786268992_14c3285cf8_c.jpg (deflated 1%)\n",
            "  adding: content/data/american goldfinch/51219079881_ed43535cd8_c.jpg (deflated 0%)\n",
            "  adding: content/data/american goldfinch/50416333201_226c553e2e_c.jpg (deflated 1%)\n",
            "  adding: content/data/american goldfinch/49847371816_f857535ddd_c.jpg (deflated 0%)\n",
            "  adding: content/data/american goldfinch/52323228622_8a7fe66694_c.jpg (deflated 1%)\n",
            "  adding: content/data/american goldfinch/50200272178_bc9eb27439_c.jpg (deflated 1%)\n",
            "  adding: content/data/american goldfinch/51694349273_e11a2b7649_c.jpg (deflated 1%)\n",
            "  adding: content/data/american goldfinch/45794314881_93c351fd57_c.jpg (deflated 1%)\n"
          ]
        }
      ],
      "source": [
        "!zip -r /content/data.zip /content/data"
      ]
    },
    {
      "cell_type": "code",
      "source": [
        "from google.colab import files\n",
        "uploaded = files.download('data.zip')"
      ],
      "metadata": {
        "colab": {
          "base_uri": "https://localhost:8080/",
          "height": 17
        },
        "id": "emT_4yTLSh1c",
        "outputId": "0093faba-3af0-44e2-cf69-650c7d7b35ac"
      },
      "execution_count": 12,
      "outputs": [
        {
          "output_type": "display_data",
          "data": {
            "text/plain": [
              "<IPython.core.display.Javascript object>"
            ],
            "application/javascript": [
              "\n",
              "    async function download(id, filename, size) {\n",
              "      if (!google.colab.kernel.accessAllowed) {\n",
              "        return;\n",
              "      }\n",
              "      const div = document.createElement('div');\n",
              "      const label = document.createElement('label');\n",
              "      label.textContent = `Downloading \"${filename}\": `;\n",
              "      div.appendChild(label);\n",
              "      const progress = document.createElement('progress');\n",
              "      progress.max = size;\n",
              "      div.appendChild(progress);\n",
              "      document.body.appendChild(div);\n",
              "\n",
              "      const buffers = [];\n",
              "      let downloaded = 0;\n",
              "\n",
              "      const channel = await google.colab.kernel.comms.open(id);\n",
              "      // Send a message to notify the kernel that we're ready.\n",
              "      channel.send({})\n",
              "\n",
              "      for await (const message of channel.messages) {\n",
              "        // Send a message to notify the kernel that we're ready.\n",
              "        channel.send({})\n",
              "        if (message.buffers) {\n",
              "          for (const buffer of message.buffers) {\n",
              "            buffers.push(buffer);\n",
              "            downloaded += buffer.byteLength;\n",
              "            progress.value = downloaded;\n",
              "          }\n",
              "        }\n",
              "      }\n",
              "      const blob = new Blob(buffers, {type: 'application/binary'});\n",
              "      const a = document.createElement('a');\n",
              "      a.href = window.URL.createObjectURL(blob);\n",
              "      a.download = filename;\n",
              "      div.appendChild(a);\n",
              "      a.click();\n",
              "      div.remove();\n",
              "    }\n",
              "  "
            ]
          },
          "metadata": {}
        },
        {
          "output_type": "display_data",
          "data": {
            "text/plain": [
              "<IPython.core.display.Javascript object>"
            ],
            "application/javascript": [
              "download(\"download_0178bd34-0532-4174-9a43-b61d6737ec1b\", \"data.zip\", 6483037)"
            ]
          },
          "metadata": {}
        }
      ]
    }
  ],
  "metadata": {
    "colab": {
      "provenance": []
    },
    "kernelspec": {
      "display_name": "Python 3",
      "name": "python3"
    },
    "language_info": {
      "name": "python"
    }
  },
  "nbformat": 4,
  "nbformat_minor": 0
}