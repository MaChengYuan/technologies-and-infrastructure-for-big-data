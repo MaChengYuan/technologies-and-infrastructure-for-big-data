{
  "cells": [
    {
      "cell_type": "markdown",
      "metadata": {
        "id": "PIZk7tIgplf3"
      },
      "source": [
        "# **Course project on Technologies and Infrastructure for Big Data**\n",
        "part I : image collecting from flickr\n",
        "\n",
        "\n",
        "Project topic: image segmentation with data collection from www.flickr.com database \n",
        "\n",
        "Project executors:\n",
        "\n",
        "Ma Cheng Yuan , ISU 372818 , J4133c"
      ]
    },
    {
      "cell_type": "code",
      "execution_count": 1,
      "metadata": {
        "colab": {
          "base_uri": "https://localhost:8080/"
        },
        "id": "ucNRpKe3cSHT",
        "outputId": "689e04e7-0512-4de7-aa4a-ac99402411d3"
      },
      "outputs": [
        {
          "output_type": "stream",
          "name": "stdout",
          "text": [
            "Looking in indexes: https://pypi.org/simple, https://us-python.pkg.dev/colab-wheels/public/simple/\n",
            "Collecting pyspark\n",
            "  Downloading pyspark-3.4.0.tar.gz (310.8 MB)\n",
            "\u001b[2K     \u001b[90m━━━━━━━━━━━━━━━━━━━━━━━━━━━━━━━━━━━━━━━\u001b[0m \u001b[32m310.8/310.8 MB\u001b[0m \u001b[31m2.5 MB/s\u001b[0m eta \u001b[36m0:00:00\u001b[0m\n",
            "\u001b[?25h  Preparing metadata (setup.py) ... \u001b[?25l\u001b[?25hdone\n",
            "Requirement already satisfied: py4j==0.10.9.7 in /usr/local/lib/python3.10/dist-packages (from pyspark) (0.10.9.7)\n",
            "Building wheels for collected packages: pyspark\n",
            "  Building wheel for pyspark (setup.py) ... \u001b[?25l\u001b[?25hdone\n",
            "  Created wheel for pyspark: filename=pyspark-3.4.0-py2.py3-none-any.whl size=311317145 sha256=f40e4a9780b3f376c2cc7ff5bb5fab520184ad05e26c31481dce13cc2e222ea3\n",
            "  Stored in directory: /root/.cache/pip/wheels/7b/1b/4b/3363a1d04368e7ff0d408e57ff57966fcdf00583774e761327\n",
            "Successfully built pyspark\n",
            "Installing collected packages: pyspark\n",
            "Successfully installed pyspark-3.4.0\n"
          ]
        }
      ],
      "source": [
        "pip install pyspark"
      ]
    },
    {
      "cell_type": "code",
      "execution_count": 2,
      "metadata": {
        "colab": {
          "base_uri": "https://localhost:8080/"
        },
        "id": "czGFVdZ8yyOm",
        "outputId": "3d704d4e-0e13-4919-b31d-4080b6dd01aa"
      },
      "outputs": [
        {
          "output_type": "stream",
          "name": "stdout",
          "text": [
            "Looking in indexes: https://pypi.org/simple, https://us-python.pkg.dev/colab-wheels/public/simple/\n",
            "Collecting flickrapi\n",
            "  Downloading flickrapi-2.4.0-py2.py3-none-any.whl (26 kB)\n",
            "Requirement already satisfied: six>=1.5.2 in /usr/local/lib/python3.10/dist-packages (from flickrapi) (1.16.0)\n",
            "Collecting requests-toolbelt>=0.3.1\n",
            "  Downloading requests_toolbelt-1.0.0-py2.py3-none-any.whl (54 kB)\n",
            "\u001b[2K     \u001b[90m━━━━━━━━━━━━━━━━━━━━━━━━━━━━━━━━━━━━━━━━\u001b[0m \u001b[32m54.5/54.5 kB\u001b[0m \u001b[31m7.5 MB/s\u001b[0m eta \u001b[36m0:00:00\u001b[0m\n",
            "\u001b[?25hRequirement already satisfied: requests-oauthlib>=0.4.0 in /usr/local/lib/python3.10/dist-packages (from flickrapi) (1.3.1)\n",
            "Requirement already satisfied: requests>=2.2.1 in /usr/local/lib/python3.10/dist-packages (from flickrapi) (2.27.1)\n",
            "Requirement already satisfied: urllib3<1.27,>=1.21.1 in /usr/local/lib/python3.10/dist-packages (from requests>=2.2.1->flickrapi) (1.26.15)\n",
            "Requirement already satisfied: certifi>=2017.4.17 in /usr/local/lib/python3.10/dist-packages (from requests>=2.2.1->flickrapi) (2022.12.7)\n",
            "Requirement already satisfied: charset-normalizer~=2.0.0 in /usr/local/lib/python3.10/dist-packages (from requests>=2.2.1->flickrapi) (2.0.12)\n",
            "Requirement already satisfied: idna<4,>=2.5 in /usr/local/lib/python3.10/dist-packages (from requests>=2.2.1->flickrapi) (3.4)\n",
            "Requirement already satisfied: oauthlib>=3.0.0 in /usr/local/lib/python3.10/dist-packages (from requests-oauthlib>=0.4.0->flickrapi) (3.2.2)\n",
            "Installing collected packages: requests-toolbelt, flickrapi\n",
            "Successfully installed flickrapi-2.4.0 requests-toolbelt-1.0.0\n"
          ]
        }
      ],
      "source": [
        "pip install flickrapi"
      ]
    },
    {
      "cell_type": "code",
      "execution_count": 3,
      "metadata": {
        "colab": {
          "base_uri": "https://localhost:8080/"
        },
        "id": "Q-V5eQgU0Zua",
        "outputId": "5e056985-4ec1-4acd-a530-eec4fdb27750"
      },
      "outputs": [
        {
          "output_type": "stream",
          "name": "stderr",
          "text": [
            "/usr/local/lib/python3.10/dist-packages/pyspark/pandas/__init__.py:50: UserWarning: 'PYARROW_IGNORE_TIMEZONE' environment variable was not set. It is required to set this environment variable to '1' in both driver and executor sides if you use pyarrow>=2.0.0. pandas-on-Spark will set it for you but it does not work if there is a Spark context already launched.\n",
            "  warnings.warn(\n"
          ]
        }
      ],
      "source": [
        "import pyspark.pandas as ps\n",
        "import flickrapi\n",
        "from flickrapi import FlickrAPI\n",
        "import os\n",
        "import warnings\n",
        "\n",
        "os.environ['KMP_DUPLICATE_LIB_OK'] = 'True'\n",
        "warnings.filterwarnings(action='ignore')"
      ]
    },
    {
      "cell_type": "markdown",
      "metadata": {
        "id": "Ia8S4gBRgJyd"
      },
      "source": [
        "#Download image from flick with flickrapi\n",
        "\n",
        "- image segmentation , all_species = ['`**blue jay**', '**northern cardinal**', '**american goldfinch**`'] , each specie with 20 image \n",
        "\n",
        "Before we start parsing data, we have received key and secret code to connect to the API. You can get your own key in the Developers section of www.flickr.com or use ours."
      ]
    },
    {
      "cell_type": "code",
      "execution_count": 4,
      "metadata": {
        "id": "Z6SokO_ecWZs"
      },
      "outputs": [],
      "source": [
        "from flickrapi import FlickrAPI\n",
        "from pyspark.sql import SparkSession\n",
        "from pyspark.sql.types import *\n",
        "\n",
        "API_KEY = '513e24d8fc90dd4f767670d583ba1e41'\n",
        "API_SECRET = '975b054fcd3c3371'\n",
        "api = flickrapi.FlickrAPI(api_key=API_KEY, secret=API_SECRET, format='parsed-json')\n",
        "\n",
        "\n",
        "def get_photos(image_tag):\n",
        "    extras = ','.join(SIZES)\n",
        "    flickr = FlickrAPI(API_KEY, API_SECRET)\n",
        "    photos = flickr.walk(text=image_tag,\n",
        "                            extras=\"url_c\",  # get the url for the original size image\n",
        "                            privacy_filter=1,  # search only for public photos\n",
        "                            per_page=500,\n",
        "                            sort='relevance')\n",
        "    \n",
        "  \n",
        "    \n",
        "    return photos\n",
        "\n",
        "def get_url(photo):\n",
        "      url = photo.get('url_c')     \n",
        "    \n",
        "      if url:  # if url is None try with the next size\n",
        "          return url\n",
        "\n",
        "def get_urls(image_tag, max):\n",
        "    photos = get_photos(image_tag)\n",
        "    counter=0\n",
        "    urls=[]\n",
        "\n",
        "    for photo in photos:\n",
        "        if counter < max:\n",
        "            url = get_url(photo)  # get preffered size url\n",
        "            if url:\n",
        "                urls.append(url)\n",
        "                counter += 1\n",
        "            # if no url for the desired sizes then try with the next photo\n",
        "        else:\n",
        "            break\n",
        "\n",
        "    return urls"
      ]
    },
    {
      "cell_type": "code",
      "execution_count": 5,
      "metadata": {
        "id": "d_Dgc0kYcWcj"
      },
      "outputs": [],
      "source": [
        "import requests\n",
        "import os\n",
        "import sys\n",
        "\n",
        "def create_folder(path):\n",
        "    if not os.path.isdir(path):\n",
        "        os.makedirs(path)\n",
        "\n",
        "def download_images(urls, path):\n",
        "    create_folder(path)  # makes sure path exists\n",
        "    local_storage = []\n",
        "    for url in urls:\n",
        "        image_name = url.split(\"/\")[-1]\n",
        "        image_path = os.path.join(path, image_name)\n",
        "        \n",
        "        if not os.path.isfile(image_path):  # ignore if already downloaded\n",
        "            response=requests.get(url,stream=True)\n",
        "\n",
        "            with open(image_path,'wb') as outfile:\n",
        "                outfile.write(response.content)\n",
        "        local_storage.append(image_path)\n",
        "    return local_storage"
      ]
    },
    {
      "cell_type": "markdown",
      "source": [
        "#explanation to argument api.photo.search method :\n",
        "\n",
        "\n",
        "*   `text` : description of image\n",
        "*   `sort` : flickr's built-in sorting method\n",
        "*   `media`: data type (image,video)\n",
        "*   `extras`: image metadata. We chose url_c, which will return url of the image thumbnail with a size of 800 pixels on the long side\n",
        "*   `per_page`:number of images per query response page\n",
        "*   `page`:page number of query responses\n",
        "\n",
        "\n",
        "\n",
        "\n",
        "\n"
      ],
      "metadata": {
        "id": "3meQ9E29fLxZ"
      }
    },
    {
      "cell_type": "code",
      "execution_count": 6,
      "metadata": {
        "id": "_nC5hfqJcWfI",
        "colab": {
          "base_uri": "https://localhost:8080/"
        },
        "outputId": "8160d5fa-cbda-40e1-9df3-20ff5223ad5e"
      },
      "outputs": [
        {
          "output_type": "stream",
          "name": "stdout",
          "text": [
            "blue jay\n",
            "Getting urls for blue jay\n",
            "Downlaing images for blue jay\n",
            "18\n",
            "18\n",
            "northern cardinal\n",
            "Getting urls for northern cardinal\n",
            "Downlaing images for northern cardinal\n",
            "20\n",
            "20\n",
            "american goldfinch\n",
            "Getting urls for american goldfinch\n",
            "Downlaing images for american goldfinch\n",
            "20\n",
            "20\n"
          ]
        }
      ],
      "source": [
        "from pyspark.sql.readwriter import DataFrameReader\n",
        "import os\n",
        "import time\n",
        "\n",
        "all_species = ['blue jay', 'northern cardinal', 'american goldfinch']\n",
        " \n",
        "def download(urls,specie):\n",
        "    fotos = []\n",
        "    local_storage = []\n",
        "    \n",
        "    \n",
        "    print('Getting urls for', specie)\n",
        "    urls = urls\n",
        "\n",
        "    print('Downlaing images for', specie)\n",
        "    path = os.path.join('data', specie)\n",
        "    \n",
        "    \n",
        "    local_storage = download_images(urls, path)\n",
        "    \n",
        "    return local_storage\n",
        "\n",
        "\n",
        "if __name__=='__main__':\n",
        "  df = ps.DataFrame()\n",
        "  labels = []\n",
        "  size = 20\n",
        "  flickr = FlickrAPI(API_KEY, API_SECRET)\n",
        "  for label in all_species :\n",
        "    page = 1\n",
        "    dataframe = ps.DataFrame()\n",
        "    print(label)    \n",
        "    while(len(dataframe) < size):\n",
        "      photos = api.photos.search(text=label, sort='relevance', media='photos',\n",
        "                    extras='url_c', per_page=size, page=page)['photos']\n",
        "      dataframe_specie = ps.DataFrame(photos['photo'])\n",
        "      dataframe = ps.concat([dataframe, dataframe_specie], ignore_index=True)\n",
        "      page = page + 1\n",
        "  \n",
        "    dataframe['label'] = [all_species.index(label)] * len(dataframe)\n",
        "    dataframe = dataframe.dropna()\n",
        "    urls = dataframe['url_c'].tolist()\n",
        "    local_storage = download(urls,label)\n",
        "    print(len(local_storage))\n",
        "    print(len(dataframe))\n",
        "    dataframe['root'] = local_storage\n",
        "    df = ps.concat([df, dataframe], ignore_index=True)\n",
        "  \n",
        " "
      ]
    },
    {
      "cell_type": "code",
      "execution_count": 7,
      "metadata": {
        "id": "XD0ZM6FiLwSz",
        "colab": {
          "base_uri": "https://localhost:8080/"
        },
        "outputId": "0851ff62-a543-4869-b359-eb5b13f9985d"
      },
      "outputs": [
        {
          "output_type": "stream",
          "name": "stdout",
          "text": [
            "there are total 58 downloaded images\n"
          ]
        }
      ],
      "source": [
        "print(\"there are total {} downloaded images\".format(len(df)))\n"
      ]
    },
    {
      "cell_type": "markdown",
      "metadata": {
        "id": "wX5CX85bn_tl"
      },
      "source": [
        "convert files with images into zip files and download it to create masked images (label images) using VGG image annotator \n",
        "\n",
        "https://annotate.officialstatistics.org/\n",
        "\n"
      ]
    },
    {
      "cell_type": "code",
      "execution_count": 8,
      "metadata": {
        "id": "qzvuFcwPm99-",
        "colab": {
          "base_uri": "https://localhost:8080/"
        },
        "outputId": "d247867d-0921-4f3c-a42e-f18510aaf8dd"
      },
      "outputs": [
        {
          "output_type": "stream",
          "name": "stdout",
          "text": [
            "  adding: content/data/ (stored 0%)\n",
            "  adding: content/data/northern cardinal/ (stored 0%)\n",
            "  adding: content/data/northern cardinal/50962862286_5ce1a3a684_c.jpg (deflated 1%)\n",
            "  adding: content/data/northern cardinal/52134463708_2022150516_c.jpg (deflated 1%)\n",
            "  adding: content/data/northern cardinal/52443481589_e17826827a_c.jpg (deflated 1%)\n",
            "  adding: content/data/northern cardinal/31250549107_86018696e6_c.jpg (deflated 1%)\n",
            "  adding: content/data/northern cardinal/51790286079_c6aa2d0fb2_c.jpg (deflated 1%)\n",
            "  adding: content/data/northern cardinal/52642590670_04bb6b345e_c.jpg (deflated 0%)\n",
            "  adding: content/data/northern cardinal/51898327672_ab7d9107cb_c.jpg (deflated 0%)\n",
            "  adding: content/data/northern cardinal/52702825314_ba9c4e53d0_c.jpg (deflated 5%)\n",
            "  adding: content/data/northern cardinal/52439266779_6711effd90_c.jpg (deflated 1%)\n",
            "  adding: content/data/northern cardinal/30376042413_1a15900032_c.jpg (deflated 1%)\n",
            "  adding: content/data/northern cardinal/40774558663_069d1441e1_c.jpg (deflated 1%)\n",
            "  adding: content/data/northern cardinal/52442697792_4d187eaa03_c.jpg (deflated 0%)\n",
            "  adding: content/data/northern cardinal/49915643351_5a61a2dc31_c.jpg (deflated 1%)\n",
            "  adding: content/data/northern cardinal/51691108334_763ecf2f97_c.jpg (deflated 0%)\n",
            "  adding: content/data/northern cardinal/51761528489_666611d219_c.jpg (deflated 1%)\n",
            "  adding: content/data/northern cardinal/50941951153_a0df707667_c.jpg (deflated 1%)\n",
            "  adding: content/data/northern cardinal/52613862428_b69571e495_c.jpg (deflated 1%)\n",
            "  adding: content/data/northern cardinal/50008142958_5d7ca00f44_c.jpg (deflated 1%)\n",
            "  adding: content/data/northern cardinal/52134446206_f6fc48b2f1_c.jpg (deflated 1%)\n",
            "  adding: content/data/northern cardinal/51823302695_18909e1df3_c.jpg (deflated 1%)\n",
            "  adding: content/data/american goldfinch/ (stored 0%)\n",
            "  adding: content/data/american goldfinch/52493932963_05ee7beb45_c.jpg (deflated 1%)\n",
            "  adding: content/data/american goldfinch/51096102961_0d98e5d521_c.jpg (deflated 1%)\n",
            "  adding: content/data/american goldfinch/52645162211_793f906a93_c.jpg (deflated 1%)\n",
            "  adding: content/data/american goldfinch/52086042119_da7aeca5ef_c.jpg (deflated 0%)\n",
            "  adding: content/data/american goldfinch/45794314881_93c351fd57_c.jpg (deflated 1%)\n",
            "  adding: content/data/american goldfinch/51786268992_14c3285cf8_c.jpg (deflated 1%)\n",
            "  adding: content/data/american goldfinch/51742130900_fd5f5135e0_c.jpg (deflated 1%)\n",
            "  adding: content/data/american goldfinch/51575450144_a027600cdd_c.jpg (deflated 1%)\n",
            "  adding: content/data/american goldfinch/52372639386_f9f2d8d6ab_c.jpg (deflated 1%)\n",
            "  adding: content/data/american goldfinch/51324561686_26ab8d160a_c.jpg (deflated 0%)\n",
            "  adding: content/data/american goldfinch/52837488251_9221aa4396_c.jpg (deflated 1%)\n",
            "  adding: content/data/american goldfinch/43944959621_9b0244353d_c.jpg (deflated 0%)\n",
            "  adding: content/data/american goldfinch/49228314013_e6be2d6d81_c.jpg (deflated 1%)\n",
            "  adding: content/data/american goldfinch/51382500914_0a8da29672_c.jpg (deflated 1%)\n",
            "  adding: content/data/american goldfinch/52337647605_30d4af76e3_c.jpg (deflated 1%)\n",
            "  adding: content/data/american goldfinch/51866912239_d20c683419_c.jpg (deflated 1%)\n",
            "  adding: content/data/american goldfinch/29879157688_f9a6668ca7_c.jpg (deflated 1%)\n",
            "  adding: content/data/american goldfinch/42003999274_3433c75f09_c.jpg (deflated 1%)\n",
            "  adding: content/data/american goldfinch/50355578676_fa52980b06_c.jpg (deflated 1%)\n",
            "  adding: content/data/american goldfinch/51694349198_9b66d28acb_c.jpg (deflated 1%)\n",
            "  adding: content/data/blue jay/ (stored 0%)\n",
            "  adding: content/data/blue jay/2333677567_3f05b28c50_c.jpg (deflated 0%)\n",
            "  adding: content/data/blue jay/30732405073_4570f0c65c_c.jpg (deflated 1%)\n",
            "  adding: content/data/blue jay/11124157635_3c8aa26ddc_c.jpg (deflated 0%)\n",
            "  adding: content/data/blue jay/15882779474_87076fd9c8_c.jpg (deflated 1%)\n",
            "  adding: content/data/blue jay/22506516545_fe40197b38_c.jpg (deflated 1%)\n",
            "  adding: content/data/blue jay/8695246698_e949fbd20f_c.jpg (deflated 0%)\n",
            "  adding: content/data/blue jay/8823823436_5b7cd9c9bb_c.jpg (deflated 0%)\n",
            "  adding: content/data/blue jay/5641611569_7f39a83e75_c.jpg (deflated 0%)\n",
            "  adding: content/data/blue jay/13188782053_7b421d9752_c.jpg (deflated 1%)\n",
            "  adding: content/data/blue jay/11082504556_febcc53c05_c.jpg (deflated 0%)\n",
            "  adding: content/data/blue jay/9033088236_ef22d17e65_c.jpg (deflated 1%)\n",
            "  adding: content/data/blue jay/2334503592_614e71d8a4_c.jpg (deflated 0%)\n",
            "  adding: content/data/blue jay/31618404466_28bd67eef6_c.jpg (deflated 2%)\n",
            "  adding: content/data/blue jay/6265312062_13fc796c3a_c.jpg (deflated 0%)\n",
            "  adding: content/data/blue jay/16324923976_ec53ecbd59_c.jpg (deflated 1%)\n",
            "  adding: content/data/blue jay/6591147097_f082483ac7_c.jpg (deflated 2%)\n",
            "  adding: content/data/blue jay/8465743289_1291a47e21_c.jpg (deflated 0%)\n",
            "  adding: content/data/blue jay/14143181441_ffdc52e7c5_c.jpg (deflated 0%)\n"
          ]
        }
      ],
      "source": [
        "!zip -r /content/data.zip /content/data"
      ]
    },
    {
      "cell_type": "code",
      "source": [
        "from google.colab import files\n",
        "uploaded = files.download('data.zip')"
      ],
      "metadata": {
        "colab": {
          "base_uri": "https://localhost:8080/",
          "height": 17
        },
        "id": "emT_4yTLSh1c",
        "outputId": "5a52d324-bdec-4198-d716-34767ba183ab"
      },
      "execution_count": 9,
      "outputs": [
        {
          "output_type": "display_data",
          "data": {
            "text/plain": [
              "<IPython.core.display.Javascript object>"
            ],
            "application/javascript": [
              "\n",
              "    async function download(id, filename, size) {\n",
              "      if (!google.colab.kernel.accessAllowed) {\n",
              "        return;\n",
              "      }\n",
              "      const div = document.createElement('div');\n",
              "      const label = document.createElement('label');\n",
              "      label.textContent = `Downloading \"${filename}\": `;\n",
              "      div.appendChild(label);\n",
              "      const progress = document.createElement('progress');\n",
              "      progress.max = size;\n",
              "      div.appendChild(progress);\n",
              "      document.body.appendChild(div);\n",
              "\n",
              "      const buffers = [];\n",
              "      let downloaded = 0;\n",
              "\n",
              "      const channel = await google.colab.kernel.comms.open(id);\n",
              "      // Send a message to notify the kernel that we're ready.\n",
              "      channel.send({})\n",
              "\n",
              "      for await (const message of channel.messages) {\n",
              "        // Send a message to notify the kernel that we're ready.\n",
              "        channel.send({})\n",
              "        if (message.buffers) {\n",
              "          for (const buffer of message.buffers) {\n",
              "            buffers.push(buffer);\n",
              "            downloaded += buffer.byteLength;\n",
              "            progress.value = downloaded;\n",
              "          }\n",
              "        }\n",
              "      }\n",
              "      const blob = new Blob(buffers, {type: 'application/binary'});\n",
              "      const a = document.createElement('a');\n",
              "      a.href = window.URL.createObjectURL(blob);\n",
              "      a.download = filename;\n",
              "      div.appendChild(a);\n",
              "      a.click();\n",
              "      div.remove();\n",
              "    }\n",
              "  "
            ]
          },
          "metadata": {}
        },
        {
          "output_type": "display_data",
          "data": {
            "text/plain": [
              "<IPython.core.display.Javascript object>"
            ],
            "application/javascript": [
              "download(\"download_48f4d477-7c6f-45e5-8f01-62845bb83e78\", \"data.zip\", 6024665)"
            ]
          },
          "metadata": {}
        }
      ]
    }
  ],
  "metadata": {
    "colab": {
      "provenance": []
    },
    "kernelspec": {
      "display_name": "Python 3",
      "name": "python3"
    },
    "language_info": {
      "name": "python"
    }
  },
  "nbformat": 4,
  "nbformat_minor": 0
}