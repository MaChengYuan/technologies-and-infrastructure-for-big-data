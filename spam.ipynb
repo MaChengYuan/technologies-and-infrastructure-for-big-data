{
  "cells": [
    {
      "cell_type": "markdown",
      "metadata": {
        "id": "PIZk7tIgplf3"
      },
      "source": [
        "# **Course project on Technologies and Infrastructure for Big Data**\n",
        "part I : image collecting from flickr\n",
        "\n",
        "\n",
        "Project topic: spam message with data collection from www.flickr.com database\n",
        "\n",
        "Project executors:\n",
        "\n",
        "Ma Cheng Yuan , ISU 372818 , J4133c"
      ]
    },
    {
      "cell_type": "code",
      "execution_count": 2,
      "metadata": {
        "colab": {
          "base_uri": "https://localhost:8080/"
        },
        "id": "ucNRpKe3cSHT",
        "outputId": "806df896-be8a-408a-f28f-cce4430d9810"
      },
      "outputs": [
        {
          "output_type": "stream",
          "name": "stdout",
          "text": [
            "Looking in indexes: https://pypi.org/simple, https://us-python.pkg.dev/colab-wheels/public/simple/\n",
            "Collecting pyspark\n",
            "  Downloading pyspark-3.4.1.tar.gz (310.8 MB)\n",
            "\u001b[2K     \u001b[90m━━━━━━━━━━━━━━━━━━━━━━━━━━━━━━━━━━━━━━━\u001b[0m \u001b[32m310.8/310.8 MB\u001b[0m \u001b[31m5.0 MB/s\u001b[0m eta \u001b[36m0:00:00\u001b[0m\n",
            "\u001b[?25h  Preparing metadata (setup.py) ... \u001b[?25l\u001b[?25hdone\n",
            "Requirement already satisfied: py4j==0.10.9.7 in /usr/local/lib/python3.10/dist-packages (from pyspark) (0.10.9.7)\n",
            "Building wheels for collected packages: pyspark\n",
            "  Building wheel for pyspark (setup.py) ... \u001b[?25l\u001b[?25hdone\n",
            "  Created wheel for pyspark: filename=pyspark-3.4.1-py2.py3-none-any.whl size=311285398 sha256=f8c693670c431f67b56513b4ac0b785e8a214ae66936600a14b21eed6e67de7b\n",
            "  Stored in directory: /root/.cache/pip/wheels/0d/77/a3/ff2f74cc9ab41f8f594dabf0579c2a7c6de920d584206e0834\n",
            "Successfully built pyspark\n",
            "Installing collected packages: pyspark\n",
            "Successfully installed pyspark-3.4.1\n"
          ]
        }
      ],
      "source": [
        "pip install pyspark"
      ]
    },
    {
      "cell_type": "code",
      "execution_count": 3,
      "metadata": {
        "colab": {
          "base_uri": "https://localhost:8080/"
        },
        "id": "czGFVdZ8yyOm",
        "outputId": "600a3da8-9e88-43c8-d42b-99d2e1ab34fc"
      },
      "outputs": [
        {
          "output_type": "stream",
          "name": "stdout",
          "text": [
            "Looking in indexes: https://pypi.org/simple, https://us-python.pkg.dev/colab-wheels/public/simple/\n",
            "Collecting flickrapi\n",
            "  Downloading flickrapi-2.4.0-py2.py3-none-any.whl (26 kB)\n",
            "Requirement already satisfied: six>=1.5.2 in /usr/local/lib/python3.10/dist-packages (from flickrapi) (1.16.0)\n",
            "Requirement already satisfied: requests>=2.2.1 in /usr/local/lib/python3.10/dist-packages (from flickrapi) (2.27.1)\n",
            "Requirement already satisfied: requests-oauthlib>=0.4.0 in /usr/local/lib/python3.10/dist-packages (from flickrapi) (1.3.1)\n",
            "Collecting requests-toolbelt>=0.3.1 (from flickrapi)\n",
            "  Downloading requests_toolbelt-1.0.0-py2.py3-none-any.whl (54 kB)\n",
            "\u001b[2K     \u001b[90m━━━━━━━━━━━━━━━━━━━━━━━━━━━━━━━━━━━━━━━━\u001b[0m \u001b[32m54.5/54.5 kB\u001b[0m \u001b[31m5.3 MB/s\u001b[0m eta \u001b[36m0:00:00\u001b[0m\n",
            "\u001b[?25hRequirement already satisfied: urllib3<1.27,>=1.21.1 in /usr/local/lib/python3.10/dist-packages (from requests>=2.2.1->flickrapi) (1.26.16)\n",
            "Requirement already satisfied: certifi>=2017.4.17 in /usr/local/lib/python3.10/dist-packages (from requests>=2.2.1->flickrapi) (2023.5.7)\n",
            "Requirement already satisfied: charset-normalizer~=2.0.0 in /usr/local/lib/python3.10/dist-packages (from requests>=2.2.1->flickrapi) (2.0.12)\n",
            "Requirement already satisfied: idna<4,>=2.5 in /usr/local/lib/python3.10/dist-packages (from requests>=2.2.1->flickrapi) (3.4)\n",
            "Requirement already satisfied: oauthlib>=3.0.0 in /usr/local/lib/python3.10/dist-packages (from requests-oauthlib>=0.4.0->flickrapi) (3.2.2)\n",
            "Installing collected packages: requests-toolbelt, flickrapi\n",
            "Successfully installed flickrapi-2.4.0 requests-toolbelt-1.0.0\n"
          ]
        }
      ],
      "source": [
        "pip install flickrapi"
      ]
    },
    {
      "cell_type": "code",
      "execution_count": 4,
      "metadata": {
        "colab": {
          "base_uri": "https://localhost:8080/"
        },
        "id": "ediJSQ_3FBfp",
        "outputId": "783785b8-c1be-4c01-9b8a-5d4de22a63e3"
      },
      "outputs": [
        {
          "output_type": "stream",
          "name": "stdout",
          "text": [
            "\u001b[2K     \u001b[90m━━━━━━━━━━━━━━━━━━━━━━━━━━━━━━━━━━━━━━━━\u001b[0m \u001b[32m7.2/7.2 MB\u001b[0m \u001b[31m60.9 MB/s\u001b[0m eta \u001b[36m0:00:00\u001b[0m\n",
            "\u001b[2K     \u001b[90m━━━━━━━━━━━━━━━━━━━━━━━━━━━━━━━━━━━━━━\u001b[0m \u001b[32m236.8/236.8 kB\u001b[0m \u001b[31m27.1 MB/s\u001b[0m eta \u001b[36m0:00:00\u001b[0m\n",
            "\u001b[2K     \u001b[90m━━━━━━━━━━━━━━━━━━━━━━━━━━━━━━━━━━━━━━━━\u001b[0m \u001b[32m7.8/7.8 MB\u001b[0m \u001b[31m86.0 MB/s\u001b[0m eta \u001b[36m0:00:00\u001b[0m\n",
            "\u001b[2K     \u001b[90m━━━━━━━━━━━━━━━━━━━━━━━━━━━━━━━━━━━━━━━━\u001b[0m \u001b[32m1.3/1.3 MB\u001b[0m \u001b[31m84.5 MB/s\u001b[0m eta \u001b[36m0:00:00\u001b[0m\n",
            "\u001b[?25h"
          ]
        }
      ],
      "source": [
        "pip install -q transformers"
      ]
    },
    {
      "cell_type": "code",
      "execution_count": 5,
      "metadata": {
        "colab": {
          "base_uri": "https://localhost:8080/"
        },
        "id": "Q-V5eQgU0Zua",
        "outputId": "8032fe5c-50e7-4a91-c29f-9f8550f1afc9"
      },
      "outputs": [
        {
          "output_type": "stream",
          "name": "stderr",
          "text": [
            "/usr/local/lib/python3.10/dist-packages/pyspark/pandas/__init__.py:50: UserWarning: 'PYARROW_IGNORE_TIMEZONE' environment variable was not set. It is required to set this environment variable to '1' in both driver and executor sides if you use pyarrow>=2.0.0. pandas-on-Spark will set it for you but it does not work if there is a Spark context already launched.\n",
            "  warnings.warn(\n"
          ]
        }
      ],
      "source": [
        "import pyspark.pandas as ps\n",
        "import flickrapi\n",
        "from flickrapi import FlickrAPI\n",
        "import os\n",
        "import warnings\n",
        "\n",
        "os.environ['KMP_DUPLICATE_LIB_OK'] = 'True'\n",
        "warnings.filterwarnings(action='ignore')"
      ]
    },
    {
      "cell_type": "markdown",
      "metadata": {
        "id": "Ia8S4gBRgJyd"
      },
      "source": [
        "#Download image from flick with flickrapi\n",
        "\n",
        "- all_species = ['`**blue jay**', '**northern cardinal**', '**american goldfinch**`']\n",
        "Before we start parsing data, we have received key and secret code to connect to the API. You can get your own key in the Developers section of www.flickr.com or use ours."
      ]
    },
    {
      "cell_type": "code",
      "execution_count": 6,
      "metadata": {
        "id": "Z6SokO_ecWZs"
      },
      "outputs": [],
      "source": [
        "from flickrapi import FlickrAPI\n",
        "from pyspark.sql import SparkSession\n",
        "from pyspark.sql.types import *\n",
        "\n",
        "API_KEY = '513e24d8fc90dd4f767670d583ba1e41'\n",
        "API_SECRET = '975b054fcd3c3371'\n",
        "api = flickrapi.FlickrAPI(api_key=API_KEY, secret=API_SECRET, format='parsed-json')\n",
        "\n",
        "\n"
      ]
    },
    {
      "cell_type": "code",
      "execution_count": 6,
      "metadata": {
        "id": "d_Dgc0kYcWcj"
      },
      "outputs": [],
      "source": [
        "import requests\n",
        "import os\n",
        "import sys\n",
        "\n",
        "def create_folder(path):\n",
        "    if not os.path.isdir(path):\n",
        "        os.makedirs(path)\n",
        "\n",
        "def download_images(urls, path):\n",
        "    create_folder(path)  # makes sure path exists\n",
        "    local_storage = []\n",
        "    for url in urls:\n",
        "        image_name = url.split(\"/\")[-1]\n",
        "        image_path = os.path.join(path, image_name)\n",
        "\n",
        "        if not os.path.isfile(image_path):  # ignore if already downloaded\n",
        "            response=requests.get(url,stream=True)\n",
        "\n",
        "            with open(image_path,'wb') as outfile:\n",
        "                outfile.write(response.content)\n",
        "        local_storage.append(image_path)\n",
        "    return local_storage"
      ]
    },
    {
      "cell_type": "markdown",
      "metadata": {
        "id": "3meQ9E29fLxZ"
      },
      "source": [
        "#explanation to argument api.photo.search method :\n",
        "\n",
        "\n",
        "*   `text` : description of image\n",
        "*   `sort` : flickr's built-in sorting method\n",
        "*   `media`: data type (image,video)\n",
        "*   `extras`: image metadata. We chose url_c, which will return url of the image thumbnail with a size of 800 pixels on the long side\n",
        "*   `per_page`:number of images per query response page\n",
        "*   `page`:page number of query responses\n",
        "\n",
        "\n",
        "\n",
        "\n",
        "\n"
      ]
    },
    {
      "cell_type": "code",
      "execution_count": 7,
      "metadata": {
        "colab": {
          "base_uri": "https://localhost:8080/"
        },
        "id": "_nC5hfqJcWfI",
        "outputId": "a7341363-57e1-4aee-b635-4505a0a4535a"
      },
      "outputs": [
        {
          "output_type": "stream",
          "name": "stdout",
          "text": [
            "df was created\n",
            "blue jay\n",
            "5\n",
            "northern cardinal\n",
            "5\n",
            "american goldfinch\n",
            "5\n"
          ]
        }
      ],
      "source": [
        "#from pyspark.sql.readwriter import DataFrameReader\n",
        "import os\n",
        "import time\n",
        "import pandas\n",
        "\n",
        "all_species = ['blue jay', 'northern cardinal', 'american goldfinch']\n",
        "species_table ={ k:v for v, k in enumerate(all_species)}\n",
        "\n",
        "def download(urls,specie):\n",
        "    fotos = []\n",
        "    local_storage = []\n",
        "\n",
        "\n",
        "    print('Getting urls for', specie)\n",
        "    urls = urls\n",
        "\n",
        "    print('Downlaing images for', specie)\n",
        "    path = os.path.join('data', specie)\n",
        "\n",
        "\n",
        "    local_storage = download_images(urls, path)\n",
        "\n",
        "    return local_storage\n",
        "\n",
        "\n",
        "df = ps.DataFrame()\n",
        "print('df was created')\n",
        "size = 5\n",
        "flickr = FlickrAPI(API_KEY, API_SECRET)\n",
        "for label in all_species :\n",
        "  page = 1\n",
        "  sum = []\n",
        "  dataframe = ps.DataFrame()\n",
        "  print(label)\n",
        "  while(len(sum) < size):\n",
        "    photos = api.photos.search(text=label, sort='relevance', media='photos',\n",
        "                  extras='url_c', per_page=size, page=page)['photos']['photo']\n",
        "    i = -1\n",
        "    while i < len(photos)-1:\n",
        "      i = i+1\n",
        "      if 'url_c' in photos[i]:\n",
        "        if(photos[i]['url_c']=='None'):\n",
        "         del photos[i]\n",
        "         i = i-1\n",
        "      else:\n",
        "         del photos[i]\n",
        "         i = i-1\n",
        "    sum=sum+photos\n",
        "    page = page + 1\n",
        "  sum = sum[:size]\n",
        "  dataframe = ps.DataFrame(sum)\n",
        "  dataframe['label'] = [all_species.index(label)] * len(dataframe)\n",
        "  dataframe = dataframe[dataframe['url_c']!='None']\n",
        "  urls = dataframe['url_c'].tolist()\n",
        "  #local_storage = download(urls,label)\n",
        "  print(len(dataframe))\n",
        "  #dataframe['root'] = local_storage\n",
        "  df = ps.concat([df, dataframe], ignore_index=True)\n"
      ]
    },
    {
      "cell_type": "code",
      "execution_count": 7,
      "metadata": {
        "id": "c4DYWqz0jtLd"
      },
      "outputs": [],
      "source": [
        "from pyspark.sql.functions import udf, length, when, col, lit, broadcast,desc\n",
        "from pyspark.sql.types import StringType , IntegerType\n",
        "from transformers import AutoTokenizer, AutoModelForSequenceClassification , pipeline\n",
        "from pyspark.sql  import functions\n",
        "import re\n",
        "\n",
        "spark = SparkSession.builder.appName('SparkByExamples.com').getOrCreate()\n",
        "\n",
        "def get_comment(number):\n",
        "    if('comment' in (api.photos.comments.getList(photo_id = number)['comments'])):\n",
        "       all = []\n",
        "       for i in range(len(api.photos.comments.getList(photo_id = number)['comments']['comment'])):\n",
        "          all.append(api.photos.comments.getList(photo_id = number)['comments']['comment'][i]['_content'])\n",
        "       return all\n",
        "    else:\n",
        "      return None\n",
        "def get_author(number):\n",
        "    if('comment' in (api.photos.comments.getList(photo_id = number)['comments'])):\n",
        "       all = []\n",
        "       for i in range(len(api.photos.comments.getList(photo_id = number)['comments']['comment'])):\n",
        "          all.append(api.photos.comments.getList(photo_id = number)['comments']['comment'][i]['author'])\n",
        "       return all\n",
        "    else:\n",
        "      return None\n",
        "def count_comment(comments):\n",
        "    if(comments != None):\n",
        "       return len(comments)\n",
        "    else:\n",
        "       return 0\n",
        "#change\n",
        "#convert dict to list and combine with original dataframe\n",
        "schema = StructType([\n",
        "  StructField('shit_comment', StringType(), True),\n",
        "  StructField('shit_author', StringType(), True),\n",
        "  StructField('sentiment', StringType(), True),\n",
        "  StructField('id', StringType(), True),\n",
        "  ])\n",
        "emotion_cates = spark.createDataFrame([], schema)\n",
        "#emotion_cates.union(emotion_cate)\n",
        "\n",
        "def sentiment(comments=None) :\n",
        "  def remove_html(comment):\n",
        "    #NLP preprocessing\n",
        "    CLEANR = re.compile('<.*?>|&([a-z0-9]+|#[0-9]{1,6}|#x[0-9a-f]{1,6});')\n",
        "    cleantext = re.sub(CLEANR, '', comment)\n",
        "    cleantext = cleantext.replace('\\n',' ')\n",
        "    return cleantext[:512]\n",
        "  if(comments == None):\n",
        "    return None\n",
        "  else:\n",
        "    #model for sentimental analysis\n",
        "    classifier = pipeline(\"text-classification\",model='bhadresh-savani/distilbert-base-uncased-emotion', return_all_scores=True)\n",
        "    emotion = {'sadness':0,'joy':0, 'love' : 0,'anger' : 0,'fear' : 0,'surprise' : 0}\n",
        "    for i in range(len(comments)):\n",
        "      comment = comments[i]\n",
        "      comment = remove_html(comment)\n",
        "      prediction = classifier(comment)\n",
        "      #emotion = None\n",
        "      Max = 0\n",
        "      for i in range(len(prediction[0])):\n",
        "        if(prediction[0][i]['score'] > Max):\n",
        "          Max = prediction[0][i]['score']\n",
        "          label =  prediction[0][i]['label']\n",
        "      emotion[label] +=1\n",
        "      #print(emotion)\n",
        "    #print(emotion)\n",
        "    max_value = list(emotion.values())\n",
        "    max_key= list(emotion.keys())\n",
        "    return max_key[max_value.index(max(max_value))]\n",
        "\n",
        "\n",
        "\n",
        "\n",
        "#change each bird , title comparison\n",
        "\n",
        "# Register the UDF\n",
        "comment_udf = udf(get_comment, StringType())\n",
        "author_udf = udf(get_author, StringType())\n",
        "size_udf = udf(count_comment, IntegerType())\n",
        "sentiment_udf = udf(sentiment, StringType())\n",
        "\n"
      ]
    },
    {
      "cell_type": "code",
      "execution_count": 9,
      "metadata": {
        "id": "vSb7NXsUpRZE"
      },
      "outputs": [],
      "source": [
        "from pyspark.sql.window import Window\n",
        "from pyspark.sql.functions import row_number\n",
        "spark_df = df.to_spark()\n",
        "spark_df = spark_df.select('id','owner','title','label')\n",
        "\n",
        "spark_df = spark_df.withColumn(\"comments\", comment_udf(col(\"id\")))\n",
        "spark_df = spark_df.withColumn(\"authors\", author_udf(col(\"id\")))\n",
        "spark_df = spark_df.withColumn(\"sentiment\", sentiment_udf(col(\"comments\")))\n",
        "spark_df = spark_df.withColumn(\"comment_size\", size_udf(col(\"comments\")))\n",
        "#spark_df = spark_df.withColumn(\"top\", row_number().over(Window.partitionBy(\"label\").orderBy(col(\"comment_size\"))))\n",
        "\n",
        "#spark_df.write.csv('mycsv.csv')\n",
        "#spark_df.show(3)\n"
      ]
    },
    {
      "cell_type": "code",
      "execution_count": 11,
      "metadata": {
        "id": "uwWbkv-uGwKj",
        "colab": {
          "base_uri": "https://localhost:8080/"
        },
        "outputId": "a3407306-2214-4a3f-c78b-cb66cddc84c4"
      },
      "outputs": [
        {
          "output_type": "stream",
          "name": "stdout",
          "text": [
            "+-----------+------------+--------+-----+--------+-------+---------+------------+---+\n",
            "|         id|       owner|   title|label|comments|authors|sentiment|comment_size|top|\n",
            "+-----------+------------+--------+-----+--------+-------+---------+------------+---+\n",
            "|14143181441|75378295@N07|Blue Jay|    0|    null|   null|     null|           0|  1|\n",
            "| 2334503592|24218402@N06|Blue Jay|    0|    null|   null|     null|           0|  2|\n",
            "| 2333677567|24218402@N06|Blue Jay|    0|    null|   null|     null|           0|  3|\n",
            "+-----------+------------+--------+-----+--------+-------+---------+------------+---+\n",
            "only showing top 3 rows\n",
            "\n"
          ]
        }
      ],
      "source": [
        "spark_df = spark_df.withColumn(\"top\", row_number().over(Window.partitionBy(\"label\").orderBy(col(\"comment_size\"))))\n",
        "#spark_pd = spark_df.toPandas()\n",
        "spark_df.show(3)\n",
        "#spark_pd.head(5)"
      ]
    },
    {
      "cell_type": "code",
      "execution_count": 12,
      "metadata": {
        "colab": {
          "base_uri": "https://localhost:8080/"
        },
        "id": "eeKZuEBbqEfy",
        "outputId": "40a72179-79b9-47a0-c44b-fa605f391e7d"
      },
      "outputs": [
        {
          "output_type": "stream",
          "name": "stdout",
          "text": [
            "attention ranking by comments\n",
            "+-------------+-----+\n",
            "|        owner|count|\n",
            "+-------------+-----+\n",
            "| 38802090@N06|    5|\n",
            "| 24218402@N06|    2|\n",
            "|110466196@N07|    2|\n",
            "| 75378295@N07|    1|\n",
            "| 95988956@N00|    1|\n",
            "|  7355441@N05|    1|\n",
            "| 41684493@N06|    1|\n",
            "| 92361032@N05|    1|\n",
            "| 33900425@N03|    1|\n",
            "+-------------+-----+\n",
            "\n",
            "comparison by owner_id - blue jay :\n",
            "+------------+-----+\n",
            "|       owner|count|\n",
            "+------------+-----+\n",
            "|24218402@N06|    2|\n",
            "|75378295@N07|    1|\n",
            "|95988956@N00|    1|\n",
            "| 7355441@N05|    1|\n",
            "+------------+-----+\n",
            "\n",
            "comparison by owner_id - northern cardinal :\n",
            "+------------+-----+\n",
            "|       owner|count|\n",
            "+------------+-----+\n",
            "|38802090@N06|    5|\n",
            "+------------+-----+\n",
            "\n",
            "comparison by owner_id - american goldfinch :\n",
            "+-------------+-----+\n",
            "|        owner|count|\n",
            "+-------------+-----+\n",
            "|110466196@N07|    2|\n",
            "| 41684493@N06|    1|\n",
            "| 92361032@N05|    1|\n",
            "| 33900425@N03|    1|\n",
            "+-------------+-----+\n",
            "\n"
          ]
        }
      ],
      "source": [
        "from pyspark.sql.functions import count,sum\n",
        "# possible to distinguish the geolocation of each species , who has particular preference\n",
        "\n",
        "print('attention ranking by comments')\n",
        "spark_df.groupBy('owner').agg(count(\"label\").alias(\"count\")).orderBy(desc('count')).show()\n",
        "\n",
        "\n",
        "print('comparison by owner_id - blue jay :')\n",
        "spark_df.where(col('label')==0).groupBy('owner').agg(count(\"owner\").alias(\"count\")).orderBy(desc('count')).show(10)\n",
        "print('comparison by owner_id - northern cardinal :')\n",
        "spark_df.where(col('label')==1).groupBy('owner').agg(count(\"owner\").alias(\"count\")).orderBy(desc('count')).show(10)\n",
        "print('comparison by owner_id - american goldfinch :')\n",
        "spark_df.where(col('label')==2).groupBy('owner').agg(count(\"owner\").alias(\"count\")).orderBy(desc('count')).show(10)\n",
        "\n",
        "\n"
      ]
    },
    {
      "cell_type": "markdown",
      "source": [
        "Sentiment proportion in each bird , from top to bottom is :\n",
        "\n",
        "blue jay\n",
        "\n",
        "northern cardinal\n",
        "\n",
        "american goldfinch"
      ],
      "metadata": {
        "id": "6CYU3gDO_9Ad"
      }
    },
    {
      "cell_type": "code",
      "execution_count": 13,
      "metadata": {
        "colab": {
          "base_uri": "https://localhost:8080/"
        },
        "id": "0sfWlExBTRl-",
        "outputId": "b65e915c-4670-4ce0-e102-bbbb463677b9"
      },
      "outputs": [
        {
          "output_type": "stream",
          "name": "stdout",
          "text": [
            "+---------+----+\n",
            "|sentiment|size|\n",
            "+---------+----+\n",
            "|      joy|   2|\n",
            "|     null|   0|\n",
            "+---------+----+\n",
            "\n",
            "+---------+----+\n",
            "|sentiment|size|\n",
            "+---------+----+\n",
            "|      joy|   5|\n",
            "+---------+----+\n",
            "\n",
            "+---------+----+\n",
            "|sentiment|size|\n",
            "+---------+----+\n",
            "|      joy|   4|\n",
            "|     null|   0|\n",
            "+---------+----+\n",
            "\n"
          ]
        }
      ],
      "source": [
        "spark_df.where(col('label')==0).groupBy('sentiment').agg(count('sentiment').alias('size')).orderBy(desc('size')).show()\n",
        "\n",
        "spark_df.where(col('label')==1).groupBy('sentiment').agg(count('sentiment').alias('size')).orderBy(desc('size')).show()\n",
        "\n",
        "spark_df.where(col('label')==2).groupBy('sentiment').agg(count('sentiment').alias('size')).orderBy(desc('size')).show()"
      ]
    },
    {
      "cell_type": "markdown",
      "metadata": {
        "id": "EZfldG41Tfeu"
      },
      "source": [
        "For pie chart"
      ]
    },
    {
      "cell_type": "code",
      "execution_count": 14,
      "metadata": {
        "colab": {
          "base_uri": "https://localhost:8080/",
          "height": 1000
        },
        "id": "hqvMdCpQ4LDJ",
        "outputId": "828e59f3-40ea-4de1-9bf0-67b499cfd9ee"
      },
      "outputs": [
        {
          "output_type": "stream",
          "name": "stdout",
          "text": [
            "blue jay sentiment comparison\n"
          ]
        },
        {
          "output_type": "display_data",
          "data": {
            "text/plain": [
              "<Figure size 640x480 with 1 Axes>"
            ],
            "image/png": "[encoded data removed]"
          },
          "metadata": {}
        },
        {
          "output_type": "stream",
          "name": "stdout",
          "text": [
            "northern cardinal sentiment comparison\n"
          ]
        },
        {
          "output_type": "display_data",
          "data": {
            "text/plain": [
              "<Figure size 640x480 with 1 Axes>"
            ],
            "image/png": "[encoded data removed]"
          },
          "metadata": {}
        },
        {
          "output_type": "stream",
          "name": "stdout",
          "text": [
            "american goldfinch sentiment comparison\n"
          ]
        },
        {
          "output_type": "display_data",
          "data": {
            "text/plain": [
              "<Figure size 640x480 with 1 Axes>"
            ],
            "image/png": "[encoded data removed]"
          },
          "metadata": {}
        }
      ],
      "source": [
        "import matplotlib.pyplot as plt\n",
        "import numpy as np\n",
        "from pyspark.sql.functions import count,sum\n",
        "# most paid attention species depends on comment\n",
        "\n",
        "#spark.groupBy('sentiment').agg(count(col('sentiment'))).show()\n",
        "#spark.select('id','title','label','comment_size').orderBy(desc('comment_size')).show()\n",
        "#conclude the emotion which bird photo can give to human\n",
        "\n",
        "# possible to distinguish which bird can bring what kind of emotion to humankinds\n",
        "def index_to_specie(dic , index):\n",
        "  return dic[index]\n",
        "index_to_specie_udf = udf(index_to_specie, StringType())\n",
        "\n",
        "print(index_to_specie(all_species,0)+' sentiment comparison')\n",
        "x = spark_df.where(col('label')==0).groupBy('sentiment').agg(count('sentiment').alias('size')).orderBy(desc(col('size'))).where('sentiment is not null')\n",
        "y = x.toPandas()['size'].tolist()\n",
        "#y = x.where('sentiment is not null').rdd.map(lambda x: x['size']).collect()\n",
        "mylabels = x.toPandas()['sentiment'].tolist()\n",
        "#mylabels = x.where('sentiment is not null').rdd.map(lambda x: x['sentiment']).collect()\n",
        "plt.pie(y, labels = mylabels)\n",
        "plt.show()\n",
        "\n",
        "print(index_to_specie(all_species,1)+' sentiment comparison')\n",
        "x = spark_df.where(col('label')==1).groupBy('sentiment').agg(count('sentiment').alias('size')).orderBy(desc(col('size'))).where('sentiment is not null')\n",
        "\n",
        "y = x.where('sentiment is not null').rdd.map(lambda x: x['size']).collect()\n",
        "mylabels = x.toPandas()['sentiment'].tolist()\n",
        "plt.pie(y, labels = mylabels)\n",
        "plt.show()\n",
        "\n",
        "print(index_to_specie(all_species,2)+' sentiment comparison')\n",
        "x = spark_df.where(col('label')==2).groupBy('sentiment').agg(count('sentiment').alias('size')).orderBy(desc(col('size'))).where('sentiment is not null')\n",
        "\n",
        "y = x.where('sentiment is not null').rdd.map(lambda x: x['size']).collect()\n",
        "mylabels = x.toPandas()['sentiment'].tolist()\n",
        "plt.pie(y, labels = mylabels)\n",
        "plt.show()\n",
        "\n",
        "#love , anger , fear , surprise\n"
      ]
    },
    {
      "cell_type": "code",
      "execution_count": 15,
      "metadata": {
        "id": "pFdlbD--oYe4"
      },
      "outputs": [],
      "source": [
        "#owner_list = spark_df.select('owner').collect()\n",
        "def preference(owners):\n",
        "  lists = []\n",
        "  for i in range(len(owners)):\n",
        "    data = api.people.getPhotos(user_id=owners[i])['photos']['photo']\n",
        "    rdd = spark.sparkContext.parallelize(data)\n",
        "    top_foto = rdd.toDF()\n",
        "    #change\n",
        "    #data_pd = ps.DataFrame(data)\n",
        "    #top_foto = data_pd.to_spark()\n",
        "    top_foto = top_foto.groupBy('title').agg(count(\"title\").alias(\"count\")).orderBy(desc('count'))\n",
        "    lists.append([top_foto.collect()[0]['title'],top_foto.collect()[1]['title'],top_foto.collect()[2]['title']])\n",
        "    #top_foto.groupBy('title').agg(count(\"title\").alias(\"count\")).orderBy(desc('count')).collect()[1]['title']\n",
        "  return lists\n",
        "\n",
        "\n",
        "#change each bird , title comparison\n",
        "\n",
        "\n",
        "#preference_list = spark_df.select('owner','label')\n",
        "\n",
        "\n"
      ]
    },
    {
      "cell_type": "code",
      "execution_count": 18,
      "metadata": {
        "id": "SQlgprrZhCvZ"
      },
      "outputs": [],
      "source": [
        "owner_list = spark_df.rdd.map(lambda x: x['owner']).collect()\n",
        "data = preference(owner_list)\n",
        "columns = [\"id\",\"prefer_topic3\"]\n",
        "dataframe = spark.createDataFrame(zip(owner_list, data), columns)\n",
        "spark_df = spark_df.join(dataframe,spark_df[\"owner\"] == dataframe[\"id\"])\n",
        "\n"
      ]
    },
    {
      "cell_type": "code",
      "execution_count": 19,
      "metadata": {
        "id": "kNXDSUfQqQyl"
      },
      "outputs": [],
      "source": [
        "def top3fan(owner_ids):\n",
        "  List = []\n",
        "  for i in range(len(owner_ids)):\n",
        "    data = api.people.getPhotos(user_id=owner_ids[i])['photos']['photo']\n",
        "    #rdd = spark.sparkContext.parallelize(data)\n",
        "    #top_foto = rdd.toDF()\n",
        "    data_pd = ps.DataFrame(data)\n",
        "    top_foto = data_pd.to_spark()\n",
        "    #photos = top_foto.rdd.map(lambda x: x['id']).collect()\n",
        "    photos = data_pd['id'].tolist()\n",
        "    comments_list = []\n",
        "    commenters_list = []\n",
        "    #print(owner_ids[i])\n",
        "    for i in range(len(photos)):\n",
        "      if('comment' in (api.photos.comments.getList(photo_id = photos[i])['comments'])):\n",
        "        data = api.photos.comments.getList(photo_id = photos[i])['comments']['comment']\n",
        "        #print(data)\n",
        "        #rdd = spark.sparkContext.parallelize(data)\n",
        "        #comment = rdd.toDF()\n",
        "        data_pd = ps.DataFrame(data)\n",
        "        #comment = data_pd.to_spark()\n",
        "        #comments = comment.rdd.map(lambda x: x['_content']).collect()\n",
        "        comments = data_pd['_content'].tolist()\n",
        "        #commenters = comment.rdd.map(lambda x: x['author']).collect()\n",
        "        commenters = data_pd['author'].tolist()\n",
        "        comments_list = comments_list + comments\n",
        "        commenters_list = commenters_list +commenters\n",
        "      else:\n",
        "        comments = None\n",
        "        commenters = None\n",
        "    if((len(comments_list) != 0)&(len(commenters_list) != 0)):\n",
        "      columns = ['author', 'comment']\n",
        "      dataframe = spark.createDataFrame(zip(commenters_list, comments_list), columns)\n",
        "      dataframe = dataframe.withColumn(\"sentiment\", sentiment_udf(dataframe[\"comment\"]))\n",
        "      fan_ranking = dataframe.groupBy('author').agg(count(\"author\").alias(\"count\")).orderBy(desc('count'))\n",
        "      #change\n",
        "      fan_ranking = fan_ranking.toPandas()\n",
        "      #print(fan_ranking['author'])\n",
        "      if(len(fan_ranking) == 1):\n",
        "        List.append([fan_ranking.iloc[0]['author']])\n",
        "      elif(len(fan_ranking) == 2):\n",
        "        List.append([fan_ranking.iloc[0]['author'],fan_ranking.iloc[1]['author']])\n",
        "      else:\n",
        "        List.append([fan_ranking.iloc[0]['author'],fan_ranking.iloc[1]['author'],fan_ranking.iloc[2]['author']])\n",
        "  # fan of photographer\n",
        "  return List"
      ]
    },
    {
      "cell_type": "code",
      "execution_count": 20,
      "metadata": {
        "id": "QFWjoSUP65ml",
        "colab": {
          "base_uri": "https://localhost:8080/"
        },
        "outputId": "4ea10383-1a85-4e46-a373-4c546145d3d1"
      },
      "outputs": [
        {
          "output_type": "stream",
          "name": "stdout",
          "text": [
            "+-----------+-------------+--------------------+-----+--------------------+--------------------+---------+------------+---+-------------+--------------------+-------------+--------------------+\n",
            "|         id|        owner|               title|label|            comments|             authors|sentiment|comment_size|top|           id|       prefer_topic3|           id|            top3_fan|\n",
            "+-----------+-------------+--------------------+-----+--------------------+--------------------+---------+------------+---+-------------+--------------------+-------------+--------------------+\n",
            "|52114903860|110466196@N07|  American Goldfinch|    2|[The perfect pose...|[40724294@N04, 60...|      joy|           4|  3|110466196@N07|[House finch, Ame...|110466196@N07|[40724294@N04, 15...|\n",
            "|52114903860|110466196@N07|  American Goldfinch|    2|[The perfect pose...|[40724294@N04, 60...|      joy|           4|  3|110466196@N07|[House finch, Ame...|110466196@N07|[16159474@N00, 62...|\n",
            "|52032894333|110466196@N07|  American Goldfinch|    2|[Cracking shot Jo...|[157646645@N07, 4...|      joy|           2|  2|110466196@N07|[House finch, Ame...|110466196@N07|[40724294@N04, 15...|\n",
            "|52032894333|110466196@N07|  American Goldfinch|    2|[Cracking shot Jo...|[157646645@N07, 4...|      joy|           2|  2|110466196@N07|[House finch, Ame...|110466196@N07|[16159474@N00, 62...|\n",
            "|52114903860|110466196@N07|  American Goldfinch|    2|[The perfect pose...|[40724294@N04, 60...|      joy|           4|  3|110466196@N07|[House finch, Ame...|110466196@N07|[40724294@N04, 15...|\n",
            "|52114903860|110466196@N07|  American Goldfinch|    2|[The perfect pose...|[40724294@N04, 60...|      joy|           4|  3|110466196@N07|[House finch, Ame...|110466196@N07|[16159474@N00, 62...|\n",
            "|52032894333|110466196@N07|  American Goldfinch|    2|[Cracking shot Jo...|[157646645@N07, 4...|      joy|           2|  2|110466196@N07|[House finch, Ame...|110466196@N07|[40724294@N04, 15...|\n",
            "|52032894333|110466196@N07|  American Goldfinch|    2|[Cracking shot Jo...|[157646645@N07, 4...|      joy|           2|  2|110466196@N07|[House finch, Ame...|110466196@N07|[16159474@N00, 62...|\n",
            "| 2333677567| 24218402@N06|            Blue Jay|    0|                null|                null|     null|           0|  3| 24218402@N06|[IMG_3082, ST. Th...| 24218402@N06|[21838055@N08, 85...|\n",
            "| 2333677567| 24218402@N06|            Blue Jay|    0|                null|                null|     null|           0|  3| 24218402@N06|[IMG_3082, ST. Th...| 24218402@N06|[8152356@N08, 503...|\n",
            "| 2334503592| 24218402@N06|            Blue Jay|    0|                null|                null|     null|           0|  2| 24218402@N06|[IMG_3082, ST. Th...| 24218402@N06|[21838055@N08, 85...|\n",
            "| 2334503592| 24218402@N06|            Blue Jay|    0|                null|                null|     null|           0|  2| 24218402@N06|[IMG_3082, ST. Th...| 24218402@N06|[8152356@N08, 503...|\n",
            "| 2333677567| 24218402@N06|            Blue Jay|    0|                null|                null|     null|           0|  3| 24218402@N06|[IMG_3082, ST. Th...| 24218402@N06|[21838055@N08, 85...|\n",
            "| 2333677567| 24218402@N06|            Blue Jay|    0|                null|                null|     null|           0|  3| 24218402@N06|[IMG_3082, ST. Th...| 24218402@N06|[8152356@N08, 503...|\n",
            "| 2334503592| 24218402@N06|            Blue Jay|    0|                null|                null|     null|           0|  2| 24218402@N06|[IMG_3082, ST. Th...| 24218402@N06|[21838055@N08, 85...|\n",
            "| 2334503592| 24218402@N06|            Blue Jay|    0|                null|                null|     null|           0|  2| 24218402@N06|[IMG_3082, ST. Th...| 24218402@N06|[8152356@N08, 503...|\n",
            "|51040513918| 33900425@N03|American Goldfinc...|    2|[Beautiful shot, ...|[81938471@N00, 35...|      joy|          71|  4| 33900425@N03|[Menges Fameflowe...| 33900425@N03|[45445559@N04, 95...|\n",
            "|52580007365| 38802090@N06|Cardinal rouge - ...|    1|[Wow, Nicole, sup...|[129060298@N06, 1...|      joy|          21|  5| 38802090@N06|[Étourneau sanson...| 38802090@N06|[38487871@N05, 12...|\n",
            "|52580007365| 38802090@N06|Cardinal rouge - ...|    1|[Wow, Nicole, sup...|[129060298@N06, 1...|      joy|          21|  5| 38802090@N06|[Étourneau sanson...| 38802090@N06|[38487871@N05, 12...|\n",
            "|52580007365| 38802090@N06|Cardinal rouge - ...|    1|[Wow, Nicole, sup...|[129060298@N06, 1...|      joy|          21|  5| 38802090@N06|[Étourneau sanson...| 38802090@N06|[38487871@N05, 12...|\n",
            "+-----------+-------------+--------------------+-----+--------------------+--------------------+---------+------------+---+-------------+--------------------+-------------+--------------------+\n",
            "only showing top 20 rows\n",
            "\n"
          ]
        }
      ],
      "source": [
        "#data = top3fan(owner_list)\n",
        "data = top3fan(owner_list)\n",
        "columns = [\"id\",\"top3_fan\"]\n",
        "dataframe = spark.createDataFrame(zip(owner_list, data), columns)\n",
        "spark_df = spark_df.join(dataframe,spark_df.owner == dataframe.id)\n",
        "spark_df.show()"
      ]
    },
    {
      "cell_type": "code",
      "execution_count": null,
      "metadata": {
        "id": "8uq7S40QATDz"
      },
      "outputs": [],
      "source": [
        "spark_df.printSchema()"
      ]
    },
    {
      "cell_type": "markdown",
      "source": [
        "To find the photo size own by each author"
      ],
      "metadata": {
        "id": "t8wlmzfUAUYj"
      }
    },
    {
      "cell_type": "code",
      "execution_count": 21,
      "metadata": {
        "id": "lJXF3X4xnFqk",
        "colab": {
          "base_uri": "https://localhost:8080/"
        },
        "outputId": "28cf42a8-64b5-4cb9-d7f7-31c4e85a2d4e"
      },
      "outputs": [
        {
          "output_type": "stream",
          "name": "stdout",
          "text": [
            "+-----------+-------------+--------------------+-----+--------------------+--------------------+---------+------------+---+-------------+--------------------+-------------+--------------------+----------+\n",
            "|         id|        owner|               title|label|            comments|             authors|sentiment|comment_size|top|           id|       prefer_topic3|           id|            top3_fan|photo_size|\n",
            "+-----------+-------------+--------------------+-----+--------------------+--------------------+---------+------------+---+-------------+--------------------+-------------+--------------------+----------+\n",
            "|52114903860|110466196@N07|  American Goldfinch|    2|[The perfect pose...|[40724294@N04, 60...|      joy|           4|  3|110466196@N07|[House finch, Ame...|110466196@N07|[40724294@N04, 15...|       100|\n",
            "|52114903860|110466196@N07|  American Goldfinch|    2|[The perfect pose...|[40724294@N04, 60...|      joy|           4|  3|110466196@N07|[House finch, Ame...|110466196@N07|[16159474@N00, 62...|       100|\n",
            "|52032894333|110466196@N07|  American Goldfinch|    2|[Cracking shot Jo...|[157646645@N07, 4...|      joy|           2|  2|110466196@N07|[House finch, Ame...|110466196@N07|[40724294@N04, 15...|       100|\n",
            "|52032894333|110466196@N07|  American Goldfinch|    2|[Cracking shot Jo...|[157646645@N07, 4...|      joy|           2|  2|110466196@N07|[House finch, Ame...|110466196@N07|[16159474@N00, 62...|       100|\n",
            "|52114903860|110466196@N07|  American Goldfinch|    2|[The perfect pose...|[40724294@N04, 60...|      joy|           4|  3|110466196@N07|[House finch, Ame...|110466196@N07|[40724294@N04, 15...|       100|\n",
            "|52114903860|110466196@N07|  American Goldfinch|    2|[The perfect pose...|[40724294@N04, 60...|      joy|           4|  3|110466196@N07|[House finch, Ame...|110466196@N07|[16159474@N00, 62...|       100|\n",
            "|52032894333|110466196@N07|  American Goldfinch|    2|[Cracking shot Jo...|[157646645@N07, 4...|      joy|           2|  2|110466196@N07|[House finch, Ame...|110466196@N07|[40724294@N04, 15...|       100|\n",
            "|52032894333|110466196@N07|  American Goldfinch|    2|[Cracking shot Jo...|[157646645@N07, 4...|      joy|           2|  2|110466196@N07|[House finch, Ame...|110466196@N07|[16159474@N00, 62...|       100|\n",
            "| 2333677567| 24218402@N06|            Blue Jay|    0|                null|                null|     null|           0|  3| 24218402@N06|[IMG_3082, ST. Th...| 24218402@N06|[21838055@N08, 85...|       100|\n",
            "| 2333677567| 24218402@N06|            Blue Jay|    0|                null|                null|     null|           0|  3| 24218402@N06|[IMG_3082, ST. Th...| 24218402@N06|[8152356@N08, 503...|       100|\n",
            "| 2334503592| 24218402@N06|            Blue Jay|    0|                null|                null|     null|           0|  2| 24218402@N06|[IMG_3082, ST. Th...| 24218402@N06|[21838055@N08, 85...|       100|\n",
            "| 2334503592| 24218402@N06|            Blue Jay|    0|                null|                null|     null|           0|  2| 24218402@N06|[IMG_3082, ST. Th...| 24218402@N06|[8152356@N08, 503...|       100|\n",
            "| 2333677567| 24218402@N06|            Blue Jay|    0|                null|                null|     null|           0|  3| 24218402@N06|[IMG_3082, ST. Th...| 24218402@N06|[21838055@N08, 85...|       100|\n",
            "| 2333677567| 24218402@N06|            Blue Jay|    0|                null|                null|     null|           0|  3| 24218402@N06|[IMG_3082, ST. Th...| 24218402@N06|[8152356@N08, 503...|       100|\n",
            "| 2334503592| 24218402@N06|            Blue Jay|    0|                null|                null|     null|           0|  2| 24218402@N06|[IMG_3082, ST. Th...| 24218402@N06|[21838055@N08, 85...|       100|\n",
            "| 2334503592| 24218402@N06|            Blue Jay|    0|                null|                null|     null|           0|  2| 24218402@N06|[IMG_3082, ST. Th...| 24218402@N06|[8152356@N08, 503...|       100|\n",
            "|51040513918| 33900425@N03|American Goldfinc...|    2|[Beautiful shot, ...|[81938471@N00, 35...|      joy|          71|  4| 33900425@N03|[Menges Fameflowe...| 33900425@N03|[45445559@N04, 95...|       100|\n",
            "|52580007365| 38802090@N06|Cardinal rouge - ...|    1|[Wow, Nicole, sup...|[129060298@N06, 1...|      joy|          21|  5| 38802090@N06|[Étourneau sanson...| 38802090@N06|[38487871@N05, 12...|       100|\n",
            "|52580007365| 38802090@N06|Cardinal rouge - ...|    1|[Wow, Nicole, sup...|[129060298@N06, 1...|      joy|          21|  5| 38802090@N06|[Étourneau sanson...| 38802090@N06|[38487871@N05, 12...|       100|\n",
            "|52580007365| 38802090@N06|Cardinal rouge - ...|    1|[Wow, Nicole, sup...|[129060298@N06, 1...|      joy|          21|  5| 38802090@N06|[Étourneau sanson...| 38802090@N06|[38487871@N05, 12...|       100|\n",
            "+-----------+-------------+--------------------+-----+--------------------+--------------------+---------+------------+---+-------------+--------------------+-------------+--------------------+----------+\n",
            "only showing top 20 rows\n",
            "\n"
          ]
        }
      ],
      "source": [
        "# the default of api is to search 100 photos , for more photo size, there should be change of parameter\n",
        "def photo_size(owner_id):\n",
        "  data = api.people.getPhotos(user_id=owner_id)['photos']['photo']\n",
        "  size = len(data)\n",
        "  return size\n",
        "photo_size_udf = udf(photo_size, StringType())\n",
        "spark_df = spark_df.withColumn(\"photo_size\", photo_size_udf(col(\"owner\")))\n",
        "spark_df.show()"
      ]
    },
    {
      "cell_type": "markdown",
      "source": [
        "My idea here is to create a empty df and insert information of spam\n",
        "\n",
        "message to this df\n",
        "\n",
        "criteria is when there is one emotion reach 80 % , others are spam\n",
        "\n",
        "but it is not complete , i tried to join in the function , but it is not working"
      ],
      "metadata": {
        "id": "b4pIyZhjAZ5x"
      }
    },
    {
      "cell_type": "code",
      "execution_count": 9,
      "metadata": {
        "id": "QTNtsgjvuUPc",
        "colab": {
          "base_uri": "https://localhost:8080/"
        },
        "outputId": "ee7c0d98-2eff-46ac-812e-f76364c51b66"
      },
      "outputs": [
        {
          "output_type": "stream",
          "name": "stdout",
          "text": [
            "+------------+-----------+---------+---+\n",
            "|shit_comment|shit_author|sentiment| id|\n",
            "+------------+-----------+---------+---+\n",
            "+------------+-----------+---------+---+\n",
            "\n"
          ]
        }
      ],
      "source": [
        "schema = StructType([\n",
        "  StructField('shit_comment', StringType(), True),\n",
        "  StructField('shit_author', StringType(), True),\n",
        "  StructField('sentiment', StringType(), True),\n",
        "  StructField('id', StringType(), True),\n",
        "  ])\n",
        "spams = spark.createDataFrame([], schema)\n",
        "\n",
        "spams.show()"
      ]
    },
    {
      "cell_type": "code",
      "execution_count": 11,
      "metadata": {
        "id": "UDGB3tTSJgdG",
        "colab": {
          "base_uri": "https://localhost:8080/"
        },
        "outputId": "8eb0fb96-cd27-4cd2-89de-532e7f4a1ab0"
      },
      "outputs": [
        {
          "output_type": "stream",
          "name": "stdout",
          "text": [
            "+--------------------+-------------+---------+-----------+\n",
            "|        shit_comment|  shit_author|sentiment|         id|\n",
            "+--------------------+-------------+---------+-----------+\n",
            "|Lovely colours in...|118948217@N06|     love|22847153945|\n",
            "|Lovely bluejay ca...| 46353871@N00|     love|22847153945|\n",
            "|            Cracker!|  9750464@N02|    anger|22847153945|\n",
            "|I love these bird...| 55032983@N07|     love|22847153945|\n",
            "|Lovely shot of a ...|124011531@N04|     love|22847153945|\n",
            "|...beautiful imag...| 38741307@N07|     love|22847153945|\n",
            "|  Lovely ....nice BG|  7522188@N02|     love|22847153945|\n",
            "|I wish they would...|127727047@N05|  sadness|22847153945|\n",
            "|                Nice| 33856622@N07|    anger|22847153945|\n",
            "|  Magnifique capture|125881398@N07|    anger|22847153945|\n",
            "|       Muito lindo..| 65548569@N07|    anger|22847153945|\n",
            "|         Mooi hoor!!| 99745284@N00|    anger|22847153945|\n",
            "|Amazing capture S...| 75715068@N02| surprise|22847153945|\n",
            "|<img src=\"https:/...| 45762667@N08|    anger|22847153945|\n",
            "|    Lovely capture !| 52614128@N07|     love|22847153945|\n",
            "|Lovely ... Wonder...|128236239@N05|     love|22847153945|\n",
            "|        Muito  lindo|136735947@N04|    anger|22847153945|\n",
            "|    Lovely blue jay!|125716890@N02|     love|22847153945|\n",
            "|         Mordecai :)|124415191@N06|    anger|22847153945|\n",
            "|Lovely Blue Jay, ...|105765827@N03|     love|22847153945|\n",
            "+--------------------+-------------+---------+-----------+\n",
            "only showing top 20 rows\n",
            "\n"
          ]
        }
      ],
      "source": [
        "from pyspark.sql.functions import count,sum\n",
        "\n",
        "def shit_comment_emotioin(comment):\n",
        "  def remove_html(comment):\n",
        "    #NLP preprocessing\n",
        "    CLEANR = re.compile('<.*?>|&([a-z0-9]+|#[0-9]{1,6}|#x[0-9a-f]{1,6});')\n",
        "    cleantext = re.sub(CLEANR, '', comment)\n",
        "    cleantext = cleantext.replace('\\n',' ')\n",
        "    return cleantext[:512]\n",
        "  classifier = pipeline(\"text-classification\",model='bhadresh-savani/distilbert-base-uncased-emotion', return_all_scores=True)\n",
        "  x = remove_html(comment)\n",
        "  prediction = classifier(x)\n",
        "  Max = 0\n",
        "  label = None\n",
        "  for i in range(len(prediction[0])):\n",
        "          if(prediction[0][i]['score'] > Max):\n",
        "            Max = prediction[0][i]['score']\n",
        "            label =  prediction[0][i]['label']\n",
        "  return label\n",
        "shit_comment_emotioin_udf = udf(shit_comment_emotioin, StringType())\n",
        "\n",
        "\n",
        "def spam_capturer(id):\n",
        "  if('comment' in (api.photos.comments.getList(photo_id = id)['comments'])):\n",
        "    data = api.photos.comments.getList(photo_id = id)['comments']['comment']\n",
        "    rdd = spark.sparkContext.parallelize(data)\n",
        "    comment = rdd.toDF()\n",
        "    comments = comment.rdd.map(lambda x: x['_content']).collect()\n",
        "    commenters = comment.rdd.map(lambda x: x['author']).collect()\n",
        "    columns = ['author', 'comment']\n",
        "    dataframe = spark.createDataFrame(zip(commenters, comments), columns)\n",
        "    dataframe = dataframe.withColumn(\"sentiment\", shit_comment_emotioin_udf(col(\"comment\")))\n",
        "    emo = dataframe.groupBy('sentiment').agg(count(\"sentiment\").alias(\"count\")).orderBy(desc('count')).collect()[0]['sentiment']\n",
        "    unique_count = dataframe.count()\n",
        "    if(((dataframe.where(col('sentiment')==emo).count() / unique_count) >= 0.8) & ((dataframe.where(col('sentiment')==emo).count() / unique_count) < 1)):\n",
        "      columns = ['shit_comment', 'shit_author','sentiment','id']\n",
        "      shit = dataframe.where(col('sentiment')!=emo)\n",
        "      shit_comment = shit.rdd.map(lambda x: x['comment']).collect()\n",
        "      shit_author = shit.rdd.map(lambda x: x['author']).collect()\n",
        "      sentiment = shit.rdd.map(lambda x: x['sentiment']).collect()\n",
        "      id = [id]*shit.count()\n",
        "      #print(zip(shit_comment, shit_author,sentiment,id))\n",
        "      shit_df = spark.createDataFrame(zip(shit_comment, shit_author,sentiment,id), columns)\n",
        "      shit_df.show()\n",
        "\n",
        "\n",
        "#change\n",
        "#owner = spark.rdd.map(lambda x: x['id']).collect()\n",
        "spam_capturer(22847153945)\n"
      ]
    },
    {
      "cell_type": "markdown",
      "source": [
        "here , i am going to use top3_fan to find possible friends pairs ,\n",
        "but it is not complete"
      ],
      "metadata": {
        "id": "syuIr_PnBGA_"
      }
    },
    {
      "cell_type": "code",
      "execution_count": null,
      "metadata": {
        "id": "X4qnfGDitmcf"
      },
      "outputs": [],
      "source": [
        "# more api on the way\n",
        "def possible_friend():\n",
        "  friends = spark_df.select('owner','top3_fan').distinct\n",
        "  for i in range(len(friends.count())):\n",
        "    fans = friends.rdd.map(lambda x: x['top3_fan']).collect()\n",
        "    for fan in fans:\n",
        "      if()\n",
        "  return\n"
      ]
    },
    {
      "cell_type": "markdown",
      "metadata": {
        "id": "m9ANLLW-mQEN"
      },
      "source": []
    }
  ],
  "metadata": {
    "colab": {
      "provenance": [],
      "gpuType": "T4"
    },
    "kernelspec": {
      "display_name": "Python 3",
      "name": "python3"
    },
    "language_info": {
      "name": "python"
    },
    "accelerator": "GPU"
  },
  "nbformat": 4,
  "nbformat_minor": 0
}